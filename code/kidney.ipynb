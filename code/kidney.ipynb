{
  "nbformat": 4,
  "nbformat_minor": 0,
  "metadata": {
    "colab": {
      "name": "kidney.ipynb",
      "provenance": []
    },
    "kernelspec": {
      "name": "python3",
      "display_name": "Python 3"
    }
  },
  "cells": [
    {
      "cell_type": "code",
      "metadata": {
        "colab": {
          "resources": {
            "http://localhost:8080/nbextensions/google.colab/files.js": {
              "data": "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",
              "ok": true,
              "headers": [
                [
                  "content-type",
                  "application/javascript"
                ]
              ],
              "status": 200,
              "status_text": ""
            }
          },
          "base_uri": "https://localhost:8080/",
          "height": 72
        },
        "id": "qjBbva6CegR_",
        "outputId": "823e4aed-3a93-49e1-d819-1a370c4db718"
      },
      "source": [
        "from google.colab import files\n",
        "uploaded = files.upload()"
      ],
      "execution_count": 1,
      "outputs": [
        {
          "output_type": "display_data",
          "data": {
            "text/html": [
              "\n",
              "     <input type=\"file\" id=\"files-636a6eeb-30f9-4003-8e5b-bf9404971fd4\" name=\"files[]\" multiple disabled\n",
              "        style=\"border:none\" />\n",
              "     <output id=\"result-636a6eeb-30f9-4003-8e5b-bf9404971fd4\">\n",
              "      Upload widget is only available when the cell has been executed in the\n",
              "      current browser session. Please rerun this cell to enable.\n",
              "      </output>\n",
              "      <script src=\"/nbextensions/google.colab/files.js\"></script> "
            ],
            "text/plain": [
              "<IPython.core.display.HTML object>"
            ]
          },
          "metadata": {
            "tags": []
          }
        },
        {
          "output_type": "stream",
          "text": [
            "Saving diabetes.csv to diabetes (3).csv\n"
          ],
          "name": "stdout"
        }
      ]
    },
    {
      "cell_type": "code",
      "metadata": {
        "colab": {
          "base_uri": "https://localhost:8080/",
          "height": 204
        },
        "id": "mD4qTxhfek5M",
        "outputId": "953ed1b3-3297-435d-ab63-904e7e8dbe3b"
      },
      "source": [
        "import pandas as pd\n",
        "diabetes=pd.read_csv(\"diabetes.csv\")\n",
        "diabetes.head()"
      ],
      "execution_count": 2,
      "outputs": [
        {
          "output_type": "execute_result",
          "data": {
            "text/html": [
              "<div>\n",
              "<style scoped>\n",
              "    .dataframe tbody tr th:only-of-type {\n",
              "        vertical-align: middle;\n",
              "    }\n",
              "\n",
              "    .dataframe tbody tr th {\n",
              "        vertical-align: top;\n",
              "    }\n",
              "\n",
              "    .dataframe thead th {\n",
              "        text-align: right;\n",
              "    }\n",
              "</style>\n",
              "<table border=\"1\" class=\"dataframe\">\n",
              "  <thead>\n",
              "    <tr style=\"text-align: right;\">\n",
              "      <th></th>\n",
              "      <th>Pregnancies</th>\n",
              "      <th>Glucose</th>\n",
              "      <th>BloodPressure</th>\n",
              "      <th>SkinThickness</th>\n",
              "      <th>Insulin</th>\n",
              "      <th>BMI</th>\n",
              "      <th>DiabetesPedigreeFunction</th>\n",
              "      <th>Age</th>\n",
              "      <th>Outcome</th>\n",
              "    </tr>\n",
              "  </thead>\n",
              "  <tbody>\n",
              "    <tr>\n",
              "      <th>0</th>\n",
              "      <td>6</td>\n",
              "      <td>148</td>\n",
              "      <td>72</td>\n",
              "      <td>35</td>\n",
              "      <td>0</td>\n",
              "      <td>33.6</td>\n",
              "      <td>0.627</td>\n",
              "      <td>50</td>\n",
              "      <td>1</td>\n",
              "    </tr>\n",
              "    <tr>\n",
              "      <th>1</th>\n",
              "      <td>1</td>\n",
              "      <td>85</td>\n",
              "      <td>66</td>\n",
              "      <td>29</td>\n",
              "      <td>0</td>\n",
              "      <td>26.6</td>\n",
              "      <td>0.351</td>\n",
              "      <td>31</td>\n",
              "      <td>0</td>\n",
              "    </tr>\n",
              "    <tr>\n",
              "      <th>2</th>\n",
              "      <td>8</td>\n",
              "      <td>183</td>\n",
              "      <td>64</td>\n",
              "      <td>0</td>\n",
              "      <td>0</td>\n",
              "      <td>23.3</td>\n",
              "      <td>0.672</td>\n",
              "      <td>32</td>\n",
              "      <td>1</td>\n",
              "    </tr>\n",
              "    <tr>\n",
              "      <th>3</th>\n",
              "      <td>1</td>\n",
              "      <td>89</td>\n",
              "      <td>66</td>\n",
              "      <td>23</td>\n",
              "      <td>94</td>\n",
              "      <td>28.1</td>\n",
              "      <td>0.167</td>\n",
              "      <td>21</td>\n",
              "      <td>0</td>\n",
              "    </tr>\n",
              "    <tr>\n",
              "      <th>4</th>\n",
              "      <td>0</td>\n",
              "      <td>137</td>\n",
              "      <td>40</td>\n",
              "      <td>35</td>\n",
              "      <td>168</td>\n",
              "      <td>43.1</td>\n",
              "      <td>2.288</td>\n",
              "      <td>33</td>\n",
              "      <td>1</td>\n",
              "    </tr>\n",
              "  </tbody>\n",
              "</table>\n",
              "</div>"
            ],
            "text/plain": [
              "   Pregnancies  Glucose  BloodPressure  ...  DiabetesPedigreeFunction  Age  Outcome\n",
              "0            6      148             72  ...                     0.627   50        1\n",
              "1            1       85             66  ...                     0.351   31        0\n",
              "2            8      183             64  ...                     0.672   32        1\n",
              "3            1       89             66  ...                     0.167   21        0\n",
              "4            0      137             40  ...                     2.288   33        1\n",
              "\n",
              "[5 rows x 9 columns]"
            ]
          },
          "metadata": {
            "tags": []
          },
          "execution_count": 2
        }
      ]
    },
    {
      "cell_type": "code",
      "metadata": {
        "colab": {
          "base_uri": "https://localhost:8080/"
        },
        "id": "nmDHpntXqEBy",
        "outputId": "14b7f1fe-eca0-4634-e7cd-29a1a30382d0"
      },
      "source": [
        "diabetes.Outcome.unique()"
      ],
      "execution_count": 3,
      "outputs": [
        {
          "output_type": "execute_result",
          "data": {
            "text/plain": [
              "array([1, 0])"
            ]
          },
          "metadata": {
            "tags": []
          },
          "execution_count": 3
        }
      ]
    },
    {
      "cell_type": "code",
      "metadata": {
        "colab": {
          "base_uri": "https://localhost:8080/",
          "height": 285
        },
        "id": "OCiP9G8JhmLe",
        "outputId": "e9a6fdf6-0121-4dea-ad14-9e95c3f9e350"
      },
      "source": [
        "import matplotlib.pyplot as plt\n",
        "import seaborn as sns\n",
        "plt.plot(\"BMI\",data=diabetes)"
      ],
      "execution_count": 4,
      "outputs": [
        {
          "output_type": "execute_result",
          "data": {
            "text/plain": [
              "[<matplotlib.lines.Line2D at 0x7fd8a9031438>]"
            ]
          },
          "metadata": {
            "tags": []
          },
          "execution_count": 4
        },
        {
          "output_type": "display_data",
          "data": {
            "image/png": "[encoded data removed]",
            "text/plain": [
              "<Figure size 432x288 with 1 Axes>"
            ]
          },
          "metadata": {
            "tags": [],
            "needs_background": "light"
          }
        }
      ]
    },
    {
      "cell_type": "code",
      "metadata": {
        "colab": {
          "base_uri": "https://localhost:8080/",
          "height": 333
        },
        "id": "McX71kQhh5ZZ",
        "outputId": "7c64136e-2e9e-4601-ce0e-df83b4013ba0"
      },
      "source": [
        "sns.barplot(\"Pregnancies\",\"Age\",data=diabetes)\n",
        "plt.show()"
      ],
      "execution_count": 5,
      "outputs": [
        {
          "output_type": "stream",
          "text": [
            "/usr/local/lib/python3.6/dist-packages/seaborn/_decorators.py:43: FutureWarning: Pass the following variables as keyword args: x, y. From version 0.12, the only valid positional argument will be `data`, and passing other arguments without an explicit keyword will result in an error or misinterpretation.\n",
            "  FutureWarning\n"
          ],
          "name": "stderr"
        },
        {
          "output_type": "display_data",
          "data": {
            "image/png": "[encoded data removed]",
            "text/plain": [
              "<Figure size 432x288 with 1 Axes>"
            ]
          },
          "metadata": {
            "tags": [],
            "needs_background": "light"
          }
        }
      ]
    },
    {
      "cell_type": "code",
      "metadata": {
        "colab": {
          "base_uri": "https://localhost:8080/",
          "height": 403
        },
        "id": "h22C4b6oiVxb",
        "outputId": "bf47cea0-2e07-4895-ec4d-9b82dfe87557"
      },
      "source": [
        "sns.heatmap(diabetes.isnull(),yticklabels=False,cbar=False,cmap='viridis')"
      ],
      "execution_count": 6,
      "outputs": [
        {
          "output_type": "execute_result",
          "data": {
            "text/plain": [
              "<matplotlib.axes._subplots.AxesSubplot at 0x7fd8a8a5be48>"
            ]
          },
          "metadata": {
            "tags": []
          },
          "execution_count": 6
        },
        {
          "output_type": "display_data",
          "data": {
            "image/png": "[encoded data removed]",
            "text/plain": [
              "<Figure size 432x288 with 1 Axes>"
            ]
          },
          "metadata": {
            "tags": [],
            "needs_background": "light"
          }
        }
      ]
    },
    {
      "cell_type": "code",
      "metadata": {
        "colab": {
          "base_uri": "https://localhost:8080/",
          "height": 350
        },
        "id": "yr2PKyiVisu_",
        "outputId": "6dac0a17-3300-4aa5-8443-8a0dec161717"
      },
      "source": [
        "sns.scatterplot(\"Glucose\",\"Insulin\",data=diabetes,color='orange')"
      ],
      "execution_count": 7,
      "outputs": [
        {
          "output_type": "stream",
          "text": [
            "/usr/local/lib/python3.6/dist-packages/seaborn/_decorators.py:43: FutureWarning: Pass the following variables as keyword args: x, y. From version 0.12, the only valid positional argument will be `data`, and passing other arguments without an explicit keyword will result in an error or misinterpretation.\n",
            "  FutureWarning\n"
          ],
          "name": "stderr"
        },
        {
          "output_type": "execute_result",
          "data": {
            "text/plain": [
              "<matplotlib.axes._subplots.AxesSubplot at 0x7fd8a8a2eac8>"
            ]
          },
          "metadata": {
            "tags": []
          },
          "execution_count": 7
        },
        {
          "output_type": "display_data",
          "data": {
            "image/png": "[encoded data removed]",
            "text/plain": [
              "<Figure size 432x288 with 1 Axes>"
            ]
          },
          "metadata": {
            "tags": [],
            "needs_background": "light"
          }
        }
      ]
    },
    {
      "cell_type": "code",
      "metadata": {
        "colab": {
          "base_uri": "https://localhost:8080/",
          "height": 296
        },
        "id": "cH2iAVrOjbH-",
        "outputId": "67684f8a-1ad5-4e4a-f832-8c1a49274518"
      },
      "source": [
        "sns.set_style('whitegrid')\n",
        "sns.countplot(x='Outcome',data=diabetes,palette='RdBu_r')"
      ],
      "execution_count": 8,
      "outputs": [
        {
          "output_type": "execute_result",
          "data": {
            "text/plain": [
              "<matplotlib.axes._subplots.AxesSubplot at 0x7fd8a56b9320>"
            ]
          },
          "metadata": {
            "tags": []
          },
          "execution_count": 8
        },
        {
          "output_type": "display_data",
          "data": {
            "image/png": "[encoded data removed]",
            "text/plain": [
              "<Figure size 432x288 with 1 Axes>"
            ]
          },
          "metadata": {
            "tags": []
          }
        }
      ]
    },
    {
      "cell_type": "code",
      "metadata": {
        "id": "PqVyLwCFkEY6"
      },
      "source": [
        "X=diabetes.drop(\"Outcome\",axis=1)\n",
        "y=diabetes['Outcome']"
      ],
      "execution_count": 9,
      "outputs": []
    },
    {
      "cell_type": "code",
      "metadata": {
        "id": "huKI7qyZjl5G"
      },
      "source": [
        "from sklearn.model_selection import train_test_split\n",
        "X_train, X_test, y_train, y_test = train_test_split(X,y,test_size=0.22,random_state=101)"
      ],
      "execution_count": 10,
      "outputs": []
    },
    {
      "cell_type": "code",
      "metadata": {
        "id": "OLpr0rYbkjek"
      },
      "source": [
        "from sklearn.preprocessing import MinMaxScaler\n",
        "scaler=MinMaxScaler()"
      ],
      "execution_count": 11,
      "outputs": []
    },
    {
      "cell_type": "code",
      "metadata": {
        "id": "-AU9VHqSkw0U"
      },
      "source": [
        "scaler.fit(X_train)\n",
        "X_train = scaler.transform(X_train)\n",
        "X_test = scaler.transform(X_test)"
      ],
      "execution_count": 12,
      "outputs": []
    },
    {
      "cell_type": "code",
      "metadata": {
        "id": "HjquXgujk7PM"
      },
      "source": [
        "import tensorflow as tf\n",
        "from tensorflow.keras.models import Sequential\n",
        "from tensorflow.keras.layers import Dense, Activation,Dropout"
      ],
      "execution_count": 13,
      "outputs": []
    },
    {
      "cell_type": "code",
      "metadata": {
        "id": "kRFQg3HAlr_T"
      },
      "source": [
        "model=Sequential()\n",
        "model.add(Dense(units=30,activation='relu'))\n",
        "model.add(Dense(units=45,activation='relu'))\n",
        "model.add(Dense(units=69,activation='elu'))\n",
        "model.add(Dense(units=50,activation='relu'))\n",
        "model.add(Dense(units=1,activation='sigmoid'))\n",
        "model.compile(loss='binary_crossentropy', optimizer='adam')"
      ],
      "execution_count": 14,
      "outputs": []
    },
    {
      "cell_type": "code",
      "metadata": {
        "colab": {
          "base_uri": "https://localhost:8080/"
        },
        "id": "HZBYl9Ibmo3g",
        "outputId": "4c93db2f-c454-4653-bcf7-6b276a8894bc"
      },
      "source": [
        "model.fit(x=X_train, \n",
        "          y=y_train, \n",
        "          epochs=200,\n",
        "          validation_data=(X_test, y_test), verbose=1\n",
        "          )"
      ],
      "execution_count": 15,
      "outputs": [
        {
          "output_type": "stream",
          "text": [
            "Epoch 1/200\n",
            "19/19 [==============================] - 0s 9ms/step - loss: 0.6742 - val_loss: 0.6500\n",
            "Epoch 2/200\n",
            "19/19 [==============================] - 0s 2ms/step - loss: 0.6474 - val_loss: 0.6251\n",
            "Epoch 3/200\n",
            "19/19 [==============================] - 0s 2ms/step - loss: 0.6220 - val_loss: 0.5819\n",
            "Epoch 4/200\n",
            "19/19 [==============================] - 0s 2ms/step - loss: 0.5909 - val_loss: 0.5366\n",
            "Epoch 5/200\n",
            "19/19 [==============================] - 0s 2ms/step - loss: 0.5660 - val_loss: 0.5254\n",
            "Epoch 6/200\n",
            "19/19 [==============================] - 0s 2ms/step - loss: 0.5371 - val_loss: 0.4727\n",
            "Epoch 7/200\n",
            "19/19 [==============================] - 0s 2ms/step - loss: 0.5278 - val_loss: 0.4646\n",
            "Epoch 8/200\n",
            "19/19 [==============================] - 0s 2ms/step - loss: 0.5045 - val_loss: 0.4471\n",
            "Epoch 9/200\n",
            "19/19 [==============================] - 0s 2ms/step - loss: 0.4865 - val_loss: 0.4602\n",
            "Epoch 10/200\n",
            "19/19 [==============================] - 0s 2ms/step - loss: 0.4880 - val_loss: 0.4289\n",
            "Epoch 11/200\n",
            "19/19 [==============================] - 0s 2ms/step - loss: 0.4773 - val_loss: 0.4358\n",
            "Epoch 12/200\n",
            "19/19 [==============================] - 0s 2ms/step - loss: 0.4725 - val_loss: 0.4448\n",
            "Epoch 13/200\n",
            "19/19 [==============================] - 0s 2ms/step - loss: 0.4626 - val_loss: 0.4395\n",
            "Epoch 14/200\n",
            "19/19 [==============================] - 0s 2ms/step - loss: 0.4685 - val_loss: 0.4912\n",
            "Epoch 15/200\n",
            "19/19 [==============================] - 0s 2ms/step - loss: 0.4779 - val_loss: 0.4507\n",
            "Epoch 16/200\n",
            "19/19 [==============================] - 0s 2ms/step - loss: 0.4583 - val_loss: 0.4340\n",
            "Epoch 17/200\n",
            "19/19 [==============================] - 0s 3ms/step - loss: 0.4438 - val_loss: 0.4459\n",
            "Epoch 18/200\n",
            "19/19 [==============================] - 0s 2ms/step - loss: 0.4462 - val_loss: 0.4416\n",
            "Epoch 19/200\n",
            "19/19 [==============================] - 0s 3ms/step - loss: 0.4307 - val_loss: 0.4338\n",
            "Epoch 20/200\n",
            "19/19 [==============================] - 0s 2ms/step - loss: 0.4310 - val_loss: 0.4341\n",
            "Epoch 21/200\n",
            "19/19 [==============================] - 0s 3ms/step - loss: 0.4338 - val_loss: 0.4402\n",
            "Epoch 22/200\n",
            "19/19 [==============================] - 0s 2ms/step - loss: 0.4273 - val_loss: 0.4398\n",
            "Epoch 23/200\n",
            "19/19 [==============================] - 0s 2ms/step - loss: 0.4230 - val_loss: 0.4405\n",
            "Epoch 24/200\n",
            "19/19 [==============================] - 0s 2ms/step - loss: 0.4285 - val_loss: 0.4409\n",
            "Epoch 25/200\n",
            "19/19 [==============================] - 0s 2ms/step - loss: 0.4304 - val_loss: 0.4372\n",
            "Epoch 26/200\n",
            "19/19 [==============================] - 0s 2ms/step - loss: 0.4213 - val_loss: 0.4444\n",
            "Epoch 27/200\n",
            "19/19 [==============================] - 0s 2ms/step - loss: 0.4190 - val_loss: 0.4523\n",
            "Epoch 28/200\n",
            "19/19 [==============================] - 0s 2ms/step - loss: 0.4307 - val_loss: 0.4534\n",
            "Epoch 29/200\n",
            "19/19 [==============================] - 0s 2ms/step - loss: 0.4292 - val_loss: 0.4483\n",
            "Epoch 30/200\n",
            "19/19 [==============================] - 0s 2ms/step - loss: 0.4383 - val_loss: 0.4501\n",
            "Epoch 31/200\n",
            "19/19 [==============================] - 0s 2ms/step - loss: 0.4198 - val_loss: 0.4481\n",
            "Epoch 32/200\n",
            "19/19 [==============================] - 0s 2ms/step - loss: 0.4191 - val_loss: 0.4481\n",
            "Epoch 33/200\n",
            "19/19 [==============================] - 0s 2ms/step - loss: 0.4066 - val_loss: 0.4552\n",
            "Epoch 34/200\n",
            "19/19 [==============================] - 0s 2ms/step - loss: 0.4110 - val_loss: 0.4519\n",
            "Epoch 35/200\n",
            "19/19 [==============================] - 0s 2ms/step - loss: 0.4003 - val_loss: 0.4534\n",
            "Epoch 36/200\n",
            "19/19 [==============================] - 0s 2ms/step - loss: 0.3994 - val_loss: 0.4630\n",
            "Epoch 37/200\n",
            "19/19 [==============================] - 0s 2ms/step - loss: 0.3948 - val_loss: 0.4818\n",
            "Epoch 38/200\n",
            "19/19 [==============================] - 0s 2ms/step - loss: 0.4043 - val_loss: 0.4557\n",
            "Epoch 39/200\n",
            "19/19 [==============================] - 0s 2ms/step - loss: 0.3937 - val_loss: 0.4673\n",
            "Epoch 40/200\n",
            "19/19 [==============================] - 0s 2ms/step - loss: 0.4010 - val_loss: 0.4655\n",
            "Epoch 41/200\n",
            "19/19 [==============================] - 0s 3ms/step - loss: 0.4016 - val_loss: 0.4903\n",
            "Epoch 42/200\n",
            "19/19 [==============================] - 0s 2ms/step - loss: 0.3942 - val_loss: 0.4716\n",
            "Epoch 43/200\n",
            "19/19 [==============================] - 0s 2ms/step - loss: 0.3899 - val_loss: 0.4652\n",
            "Epoch 44/200\n",
            "19/19 [==============================] - 0s 2ms/step - loss: 0.3869 - val_loss: 0.4700\n",
            "Epoch 45/200\n",
            "19/19 [==============================] - 0s 2ms/step - loss: 0.3887 - val_loss: 0.4698\n",
            "Epoch 46/200\n",
            "19/19 [==============================] - 0s 2ms/step - loss: 0.3868 - val_loss: 0.4808\n",
            "Epoch 47/200\n",
            "19/19 [==============================] - 0s 2ms/step - loss: 0.3858 - val_loss: 0.4771\n",
            "Epoch 48/200\n",
            "19/19 [==============================] - 0s 2ms/step - loss: 0.3847 - val_loss: 0.4754\n",
            "Epoch 49/200\n",
            "19/19 [==============================] - 0s 2ms/step - loss: 0.3769 - val_loss: 0.4977\n",
            "Epoch 50/200\n",
            "19/19 [==============================] - 0s 2ms/step - loss: 0.3860 - val_loss: 0.5067\n",
            "Epoch 51/200\n",
            "19/19 [==============================] - 0s 2ms/step - loss: 0.3726 - val_loss: 0.5035\n",
            "Epoch 52/200\n",
            "19/19 [==============================] - 0s 2ms/step - loss: 0.3800 - val_loss: 0.4958\n",
            "Epoch 53/200\n",
            "19/19 [==============================] - 0s 2ms/step - loss: 0.3723 - val_loss: 0.4833\n",
            "Epoch 54/200\n",
            "19/19 [==============================] - 0s 2ms/step - loss: 0.3699 - val_loss: 0.5091\n",
            "Epoch 55/200\n",
            "19/19 [==============================] - 0s 2ms/step - loss: 0.3648 - val_loss: 0.4994\n",
            "Epoch 56/200\n",
            "19/19 [==============================] - 0s 2ms/step - loss: 0.3657 - val_loss: 0.5116\n",
            "Epoch 57/200\n",
            "19/19 [==============================] - 0s 2ms/step - loss: 0.3708 - val_loss: 0.5062\n",
            "Epoch 58/200\n",
            "19/19 [==============================] - 0s 2ms/step - loss: 0.3637 - val_loss: 0.4988\n",
            "Epoch 59/200\n",
            "19/19 [==============================] - 0s 2ms/step - loss: 0.3622 - val_loss: 0.4986\n",
            "Epoch 60/200\n",
            "19/19 [==============================] - 0s 2ms/step - loss: 0.3520 - val_loss: 0.5137\n",
            "Epoch 61/200\n",
            "19/19 [==============================] - 0s 2ms/step - loss: 0.3593 - val_loss: 0.5137\n",
            "Epoch 62/200\n",
            "19/19 [==============================] - 0s 2ms/step - loss: 0.3612 - val_loss: 0.5044\n",
            "Epoch 63/200\n",
            "19/19 [==============================] - 0s 2ms/step - loss: 0.3638 - val_loss: 0.5047\n",
            "Epoch 64/200\n",
            "19/19 [==============================] - 0s 2ms/step - loss: 0.3712 - val_loss: 0.5489\n",
            "Epoch 65/200\n",
            "19/19 [==============================] - 0s 2ms/step - loss: 0.3550 - val_loss: 0.5071\n",
            "Epoch 66/200\n",
            "19/19 [==============================] - 0s 2ms/step - loss: 0.3495 - val_loss: 0.5141\n",
            "Epoch 67/200\n",
            "19/19 [==============================] - 0s 2ms/step - loss: 0.3655 - val_loss: 0.5184\n",
            "Epoch 68/200\n",
            "19/19 [==============================] - 0s 2ms/step - loss: 0.3512 - val_loss: 0.5150\n",
            "Epoch 69/200\n",
            "19/19 [==============================] - 0s 2ms/step - loss: 0.3489 - val_loss: 0.5357\n",
            "Epoch 70/200\n",
            "19/19 [==============================] - 0s 2ms/step - loss: 0.3753 - val_loss: 0.5288\n",
            "Epoch 71/200\n",
            "19/19 [==============================] - 0s 2ms/step - loss: 0.3537 - val_loss: 0.5562\n",
            "Epoch 72/200\n",
            "19/19 [==============================] - 0s 2ms/step - loss: 0.3719 - val_loss: 0.5049\n",
            "Epoch 73/200\n",
            "19/19 [==============================] - 0s 2ms/step - loss: 0.3346 - val_loss: 0.5248\n",
            "Epoch 74/200\n",
            "19/19 [==============================] - 0s 2ms/step - loss: 0.3373 - val_loss: 0.5200\n",
            "Epoch 75/200\n",
            "19/19 [==============================] - 0s 2ms/step - loss: 0.3311 - val_loss: 0.5098\n",
            "Epoch 76/200\n",
            "19/19 [==============================] - 0s 2ms/step - loss: 0.3458 - val_loss: 0.5458\n",
            "Epoch 77/200\n",
            "19/19 [==============================] - 0s 2ms/step - loss: 0.3344 - val_loss: 0.5218\n",
            "Epoch 78/200\n",
            "19/19 [==============================] - 0s 2ms/step - loss: 0.3277 - val_loss: 0.5313\n",
            "Epoch 79/200\n",
            "19/19 [==============================] - 0s 3ms/step - loss: 0.3282 - val_loss: 0.5479\n",
            "Epoch 80/200\n",
            "19/19 [==============================] - 0s 2ms/step - loss: 0.3185 - val_loss: 0.5372\n",
            "Epoch 81/200\n",
            "19/19 [==============================] - 0s 2ms/step - loss: 0.3473 - val_loss: 0.5603\n",
            "Epoch 82/200\n",
            "19/19 [==============================] - 0s 2ms/step - loss: 0.3237 - val_loss: 0.5357\n",
            "Epoch 83/200\n",
            "19/19 [==============================] - 0s 2ms/step - loss: 0.3179 - val_loss: 0.5609\n",
            "Epoch 84/200\n",
            "19/19 [==============================] - 0s 2ms/step - loss: 0.3053 - val_loss: 0.5440\n",
            "Epoch 85/200\n",
            "19/19 [==============================] - 0s 2ms/step - loss: 0.3211 - val_loss: 0.6030\n",
            "Epoch 86/200\n",
            "19/19 [==============================] - 0s 2ms/step - loss: 0.3108 - val_loss: 0.5515\n",
            "Epoch 87/200\n",
            "19/19 [==============================] - 0s 2ms/step - loss: 0.3111 - val_loss: 0.5873\n",
            "Epoch 88/200\n",
            "19/19 [==============================] - 0s 2ms/step - loss: 0.3147 - val_loss: 0.5792\n",
            "Epoch 89/200\n",
            "19/19 [==============================] - 0s 2ms/step - loss: 0.3095 - val_loss: 0.5663\n",
            "Epoch 90/200\n",
            "19/19 [==============================] - 0s 2ms/step - loss: 0.2978 - val_loss: 0.5756\n",
            "Epoch 91/200\n",
            "19/19 [==============================] - 0s 2ms/step - loss: 0.3006 - val_loss: 0.6119\n",
            "Epoch 92/200\n",
            "19/19 [==============================] - 0s 2ms/step - loss: 0.3257 - val_loss: 0.5912\n",
            "Epoch 93/200\n",
            "19/19 [==============================] - 0s 2ms/step - loss: 0.3083 - val_loss: 0.5948\n",
            "Epoch 94/200\n",
            "19/19 [==============================] - 0s 2ms/step - loss: 0.3033 - val_loss: 0.5788\n",
            "Epoch 95/200\n",
            "19/19 [==============================] - 0s 2ms/step - loss: 0.2991 - val_loss: 0.5908\n",
            "Epoch 96/200\n",
            "19/19 [==============================] - 0s 2ms/step - loss: 0.2952 - val_loss: 0.5971\n",
            "Epoch 97/200\n",
            "19/19 [==============================] - 0s 2ms/step - loss: 0.2924 - val_loss: 0.5766\n",
            "Epoch 98/200\n",
            "19/19 [==============================] - 0s 2ms/step - loss: 0.3040 - val_loss: 0.6459\n",
            "Epoch 99/200\n",
            "19/19 [==============================] - 0s 3ms/step - loss: 0.3071 - val_loss: 0.6169\n",
            "Epoch 100/200\n",
            "19/19 [==============================] - 0s 2ms/step - loss: 0.3239 - val_loss: 0.6321\n",
            "Epoch 101/200\n",
            "19/19 [==============================] - 0s 3ms/step - loss: 0.3223 - val_loss: 0.6347\n",
            "Epoch 102/200\n",
            "19/19 [==============================] - 0s 3ms/step - loss: 0.3040 - val_loss: 0.5935\n",
            "Epoch 103/200\n",
            "19/19 [==============================] - 0s 2ms/step - loss: 0.2921 - val_loss: 0.5861\n",
            "Epoch 104/200\n",
            "19/19 [==============================] - 0s 2ms/step - loss: 0.2842 - val_loss: 0.6533\n",
            "Epoch 105/200\n",
            "19/19 [==============================] - 0s 2ms/step - loss: 0.2865 - val_loss: 0.6060\n",
            "Epoch 106/200\n",
            "19/19 [==============================] - 0s 2ms/step - loss: 0.2778 - val_loss: 0.6271\n",
            "Epoch 107/200\n",
            "19/19 [==============================] - 0s 2ms/step - loss: 0.2772 - val_loss: 0.6159\n",
            "Epoch 108/200\n",
            "19/19 [==============================] - 0s 2ms/step - loss: 0.2742 - val_loss: 0.6593\n",
            "Epoch 109/200\n",
            "19/19 [==============================] - 0s 2ms/step - loss: 0.2816 - val_loss: 0.6318\n",
            "Epoch 110/200\n",
            "19/19 [==============================] - 0s 2ms/step - loss: 0.2699 - val_loss: 0.6540\n",
            "Epoch 111/200\n",
            "19/19 [==============================] - 0s 3ms/step - loss: 0.2912 - val_loss: 0.6599\n",
            "Epoch 112/200\n",
            "19/19 [==============================] - 0s 3ms/step - loss: 0.2915 - val_loss: 0.6348\n",
            "Epoch 113/200\n",
            "19/19 [==============================] - 0s 2ms/step - loss: 0.3071 - val_loss: 0.6562\n",
            "Epoch 114/200\n",
            "19/19 [==============================] - 0s 3ms/step - loss: 0.3058 - val_loss: 0.6436\n",
            "Epoch 115/200\n",
            "19/19 [==============================] - 0s 2ms/step - loss: 0.3033 - val_loss: 0.6465\n",
            "Epoch 116/200\n",
            "19/19 [==============================] - 0s 2ms/step - loss: 0.2599 - val_loss: 0.6300\n",
            "Epoch 117/200\n",
            "19/19 [==============================] - 0s 2ms/step - loss: 0.2791 - val_loss: 0.6654\n",
            "Epoch 118/200\n",
            "19/19 [==============================] - 0s 2ms/step - loss: 0.2611 - val_loss: 0.6701\n",
            "Epoch 119/200\n",
            "19/19 [==============================] - 0s 2ms/step - loss: 0.2670 - val_loss: 0.6529\n",
            "Epoch 120/200\n",
            "19/19 [==============================] - 0s 2ms/step - loss: 0.2560 - val_loss: 0.6931\n",
            "Epoch 121/200\n",
            "19/19 [==============================] - 0s 3ms/step - loss: 0.2820 - val_loss: 0.6984\n",
            "Epoch 122/200\n",
            "19/19 [==============================] - 0s 2ms/step - loss: 0.2695 - val_loss: 0.6593\n",
            "Epoch 123/200\n",
            "19/19 [==============================] - 0s 3ms/step - loss: 0.2529 - val_loss: 0.6734\n",
            "Epoch 124/200\n",
            "19/19 [==============================] - 0s 2ms/step - loss: 0.2919 - val_loss: 0.7778\n",
            "Epoch 125/200\n",
            "19/19 [==============================] - 0s 2ms/step - loss: 0.2721 - val_loss: 0.7203\n",
            "Epoch 126/200\n",
            "19/19 [==============================] - 0s 2ms/step - loss: 0.2641 - val_loss: 0.6927\n",
            "Epoch 127/200\n",
            "19/19 [==============================] - 0s 2ms/step - loss: 0.2516 - val_loss: 0.7118\n",
            "Epoch 128/200\n",
            "19/19 [==============================] - 0s 2ms/step - loss: 0.2732 - val_loss: 0.7019\n",
            "Epoch 129/200\n",
            "19/19 [==============================] - 0s 3ms/step - loss: 0.2589 - val_loss: 0.6979\n",
            "Epoch 130/200\n",
            "19/19 [==============================] - 0s 3ms/step - loss: 0.2632 - val_loss: 0.7355\n",
            "Epoch 131/200\n",
            "19/19 [==============================] - 0s 2ms/step - loss: 0.2779 - val_loss: 0.6828\n",
            "Epoch 132/200\n",
            "19/19 [==============================] - 0s 2ms/step - loss: 0.2719 - val_loss: 0.7025\n",
            "Epoch 133/200\n",
            "19/19 [==============================] - 0s 2ms/step - loss: 0.2568 - val_loss: 0.7009\n",
            "Epoch 134/200\n",
            "19/19 [==============================] - 0s 2ms/step - loss: 0.2599 - val_loss: 0.7380\n",
            "Epoch 135/200\n",
            "19/19 [==============================] - 0s 2ms/step - loss: 0.2423 - val_loss: 0.7502\n",
            "Epoch 136/200\n",
            "19/19 [==============================] - 0s 2ms/step - loss: 0.2505 - val_loss: 0.8457\n",
            "Epoch 137/200\n",
            "19/19 [==============================] - 0s 2ms/step - loss: 0.2443 - val_loss: 0.7390\n",
            "Epoch 138/200\n",
            "19/19 [==============================] - 0s 2ms/step - loss: 0.2551 - val_loss: 0.7769\n",
            "Epoch 139/200\n",
            "19/19 [==============================] - 0s 2ms/step - loss: 0.2473 - val_loss: 0.7403\n",
            "Epoch 140/200\n",
            "19/19 [==============================] - 0s 2ms/step - loss: 0.2307 - val_loss: 0.7302\n",
            "Epoch 141/200\n",
            "19/19 [==============================] - 0s 2ms/step - loss: 0.2252 - val_loss: 0.7794\n",
            "Epoch 142/200\n",
            "19/19 [==============================] - 0s 2ms/step - loss: 0.2491 - val_loss: 0.7610\n",
            "Epoch 143/200\n",
            "19/19 [==============================] - 0s 3ms/step - loss: 0.2368 - val_loss: 0.7382\n",
            "Epoch 144/200\n",
            "19/19 [==============================] - 0s 2ms/step - loss: 0.2306 - val_loss: 0.7837\n",
            "Epoch 145/200\n",
            "19/19 [==============================] - 0s 2ms/step - loss: 0.2291 - val_loss: 0.7436\n",
            "Epoch 146/200\n",
            "19/19 [==============================] - 0s 2ms/step - loss: 0.2393 - val_loss: 0.8621\n",
            "Epoch 147/200\n",
            "19/19 [==============================] - 0s 2ms/step - loss: 0.2214 - val_loss: 0.7825\n",
            "Epoch 148/200\n",
            "19/19 [==============================] - 0s 2ms/step - loss: 0.2368 - val_loss: 0.8287\n",
            "Epoch 149/200\n",
            "19/19 [==============================] - 0s 2ms/step - loss: 0.2448 - val_loss: 0.7873\n",
            "Epoch 150/200\n",
            "19/19 [==============================] - 0s 2ms/step - loss: 0.2221 - val_loss: 0.7656\n",
            "Epoch 151/200\n",
            "19/19 [==============================] - 0s 2ms/step - loss: 0.2333 - val_loss: 0.8060\n",
            "Epoch 152/200\n",
            "19/19 [==============================] - 0s 2ms/step - loss: 0.2386 - val_loss: 0.8312\n",
            "Epoch 153/200\n",
            "19/19 [==============================] - 0s 2ms/step - loss: 0.2303 - val_loss: 0.8093\n",
            "Epoch 154/200\n",
            "19/19 [==============================] - 0s 2ms/step - loss: 0.2479 - val_loss: 0.8676\n",
            "Epoch 155/200\n",
            "19/19 [==============================] - 0s 2ms/step - loss: 0.2269 - val_loss: 0.7867\n",
            "Epoch 156/200\n",
            "19/19 [==============================] - 0s 2ms/step - loss: 0.2567 - val_loss: 0.7894\n",
            "Epoch 157/200\n",
            "19/19 [==============================] - 0s 2ms/step - loss: 0.2387 - val_loss: 0.8586\n",
            "Epoch 158/200\n",
            "19/19 [==============================] - 0s 3ms/step - loss: 0.2383 - val_loss: 0.8268\n",
            "Epoch 159/200\n",
            "19/19 [==============================] - 0s 3ms/step - loss: 0.2195 - val_loss: 0.8182\n",
            "Epoch 160/200\n",
            "19/19 [==============================] - 0s 2ms/step - loss: 0.2109 - val_loss: 0.8125\n",
            "Epoch 161/200\n",
            "19/19 [==============================] - 0s 2ms/step - loss: 0.2120 - val_loss: 0.8437\n",
            "Epoch 162/200\n",
            "19/19 [==============================] - 0s 2ms/step - loss: 0.2305 - val_loss: 0.9102\n",
            "Epoch 163/200\n",
            "19/19 [==============================] - 0s 2ms/step - loss: 0.2786 - val_loss: 0.8099\n",
            "Epoch 164/200\n",
            "19/19 [==============================] - 0s 2ms/step - loss: 0.2435 - val_loss: 0.8329\n",
            "Epoch 165/200\n",
            "19/19 [==============================] - 0s 3ms/step - loss: 0.2113 - val_loss: 0.8484\n",
            "Epoch 166/200\n",
            "19/19 [==============================] - 0s 2ms/step - loss: 0.2189 - val_loss: 0.8444\n",
            "Epoch 167/200\n",
            "19/19 [==============================] - 0s 2ms/step - loss: 0.2153 - val_loss: 0.8804\n",
            "Epoch 168/200\n",
            "19/19 [==============================] - 0s 2ms/step - loss: 0.2030 - val_loss: 0.8403\n",
            "Epoch 169/200\n",
            "19/19 [==============================] - 0s 2ms/step - loss: 0.2028 - val_loss: 0.9239\n",
            "Epoch 170/200\n",
            "19/19 [==============================] - 0s 2ms/step - loss: 0.2109 - val_loss: 0.8641\n",
            "Epoch 171/200\n",
            "19/19 [==============================] - 0s 2ms/step - loss: 0.2126 - val_loss: 0.9576\n",
            "Epoch 172/200\n",
            "19/19 [==============================] - 0s 2ms/step - loss: 0.1937 - val_loss: 0.9387\n",
            "Epoch 173/200\n",
            "19/19 [==============================] - 0s 3ms/step - loss: 0.2137 - val_loss: 0.8888\n",
            "Epoch 174/200\n",
            "19/19 [==============================] - 0s 2ms/step - loss: 0.2063 - val_loss: 0.9631\n",
            "Epoch 175/200\n",
            "19/19 [==============================] - 0s 2ms/step - loss: 0.2129 - val_loss: 0.9083\n",
            "Epoch 176/200\n",
            "19/19 [==============================] - 0s 2ms/step - loss: 0.2458 - val_loss: 0.9363\n",
            "Epoch 177/200\n",
            "19/19 [==============================] - 0s 2ms/step - loss: 0.2244 - val_loss: 0.9081\n",
            "Epoch 178/200\n",
            "19/19 [==============================] - 0s 2ms/step - loss: 0.2254 - val_loss: 1.0023\n",
            "Epoch 179/200\n",
            "19/19 [==============================] - 0s 2ms/step - loss: 0.2029 - val_loss: 0.9209\n",
            "Epoch 180/200\n",
            "19/19 [==============================] - 0s 2ms/step - loss: 0.2014 - val_loss: 0.9564\n",
            "Epoch 181/200\n",
            "19/19 [==============================] - 0s 2ms/step - loss: 0.1864 - val_loss: 0.9246\n",
            "Epoch 182/200\n",
            "19/19 [==============================] - 0s 3ms/step - loss: 0.1772 - val_loss: 0.9608\n",
            "Epoch 183/200\n",
            "19/19 [==============================] - 0s 2ms/step - loss: 0.1920 - val_loss: 0.9615\n",
            "Epoch 184/200\n",
            "19/19 [==============================] - 0s 2ms/step - loss: 0.1793 - val_loss: 0.9792\n",
            "Epoch 185/200\n",
            "19/19 [==============================] - 0s 2ms/step - loss: 0.1848 - val_loss: 1.0225\n",
            "Epoch 186/200\n",
            "19/19 [==============================] - 0s 2ms/step - loss: 0.1835 - val_loss: 0.9720\n",
            "Epoch 187/200\n",
            "19/19 [==============================] - 0s 2ms/step - loss: 0.2126 - val_loss: 1.2547\n",
            "Epoch 188/200\n",
            "19/19 [==============================] - 0s 2ms/step - loss: 0.2503 - val_loss: 0.9030\n",
            "Epoch 189/200\n",
            "19/19 [==============================] - 0s 3ms/step - loss: 0.2005 - val_loss: 1.0801\n",
            "Epoch 190/200\n",
            "19/19 [==============================] - 0s 3ms/step - loss: 0.2046 - val_loss: 0.9996\n",
            "Epoch 191/200\n",
            "19/19 [==============================] - 0s 2ms/step - loss: 0.1787 - val_loss: 0.9631\n",
            "Epoch 192/200\n",
            "19/19 [==============================] - 0s 2ms/step - loss: 0.1736 - val_loss: 0.9761\n",
            "Epoch 193/200\n",
            "19/19 [==============================] - 0s 2ms/step - loss: 0.1850 - val_loss: 1.1556\n",
            "Epoch 194/200\n",
            "19/19 [==============================] - 0s 2ms/step - loss: 0.2024 - val_loss: 0.9774\n",
            "Epoch 195/200\n",
            "19/19 [==============================] - 0s 2ms/step - loss: 0.1822 - val_loss: 1.0344\n",
            "Epoch 196/200\n",
            "19/19 [==============================] - 0s 2ms/step - loss: 0.2253 - val_loss: 1.0900\n",
            "Epoch 197/200\n",
            "19/19 [==============================] - 0s 2ms/step - loss: 0.1858 - val_loss: 1.0102\n",
            "Epoch 198/200\n",
            "19/19 [==============================] - 0s 3ms/step - loss: 0.1869 - val_loss: 1.0234\n",
            "Epoch 199/200\n",
            "19/19 [==============================] - 0s 3ms/step - loss: 0.2437 - val_loss: 1.0875\n",
            "Epoch 200/200\n",
            "19/19 [==============================] - 0s 2ms/step - loss: 0.2301 - val_loss: 1.1690\n"
          ],
          "name": "stdout"
        },
        {
          "output_type": "execute_result",
          "data": {
            "text/plain": [
              "<tensorflow.python.keras.callbacks.History at 0x7fd86d5cdef0>"
            ]
          },
          "metadata": {
            "tags": []
          },
          "execution_count": 15
        }
      ]
    },
    {
      "cell_type": "code",
      "metadata": {
        "colab": {
          "base_uri": "https://localhost:8080/",
          "height": 282
        },
        "id": "06L5T6t9npqW",
        "outputId": "c3daa548-aba4-41a3-d20e-e950c3a7818c"
      },
      "source": [
        "model_loss = pd.DataFrame(model.history.history)\n",
        "model_loss.plot()"
      ],
      "execution_count": 16,
      "outputs": [
        {
          "output_type": "execute_result",
          "data": {
            "text/plain": [
              "<matplotlib.axes._subplots.AxesSubplot at 0x7fd868e4b9b0>"
            ]
          },
          "metadata": {
            "tags": []
          },
          "execution_count": 16
        },
        {
          "output_type": "display_data",
          "data": {
            "image/png": "[encoded data removed]",
            "text/plain": [
              "<Figure size 432x288 with 1 Axes>"
            ]
          },
          "metadata": {
            "tags": []
          }
        }
      ]
    },
    {
      "cell_type": "code",
      "metadata": {
        "id": "1Agg9A-6nyYm"
      },
      "source": [
        "from tensorflow.keras.callbacks import EarlyStopping\n",
        "model=Sequential()\n",
        "model.add(Dense(units=30,activation='relu'))\n",
        "model.add(Dense(units=45,activation='relu'))\n",
        "model.add(Dense(units=69,activation='elu'))\n",
        "model.add(Dense(units=50,activation='relu'))\n",
        "model.add(Dense(units=1,activation='sigmoid'))\n",
        "model.compile(loss='binary_crossentropy', optimizer='adam')"
      ],
      "execution_count": 17,
      "outputs": []
    },
    {
      "cell_type": "code",
      "metadata": {
        "id": "4TItzB13oVEO"
      },
      "source": [
        "early_stop = EarlyStopping(monitor='val_loss', mode='min', verbose=1, patience=25)"
      ],
      "execution_count": 18,
      "outputs": []
    },
    {
      "cell_type": "code",
      "metadata": {
        "colab": {
          "base_uri": "https://localhost:8080/"
        },
        "id": "wog9eoPsoYmN",
        "outputId": "9725ff3e-6fa1-4bf9-8fb8-2446d1a9d694"
      },
      "source": [
        "model.fit(x=X_train, \n",
        "          y=y_train, \n",
        "          epochs=150,\n",
        "          validation_data=(X_test, y_test), verbose=1,\n",
        "          callbacks=[early_stop]\n",
        "          )"
      ],
      "execution_count": 19,
      "outputs": [
        {
          "output_type": "stream",
          "text": [
            "Epoch 1/150\n",
            "19/19 [==============================] - 0s 15ms/step - loss: 0.6686 - val_loss: 0.6432\n",
            "Epoch 2/150\n",
            "19/19 [==============================] - 0s 2ms/step - loss: 0.6460 - val_loss: 0.6249\n",
            "Epoch 3/150\n",
            "19/19 [==============================] - 0s 2ms/step - loss: 0.6292 - val_loss: 0.5995\n",
            "Epoch 4/150\n",
            "19/19 [==============================] - 0s 2ms/step - loss: 0.6054 - val_loss: 0.5670\n",
            "Epoch 5/150\n",
            "19/19 [==============================] - 0s 2ms/step - loss: 0.5809 - val_loss: 0.5345\n",
            "Epoch 6/150\n",
            "19/19 [==============================] - 0s 2ms/step - loss: 0.5589 - val_loss: 0.5021\n",
            "Epoch 7/150\n",
            "19/19 [==============================] - 0s 2ms/step - loss: 0.5342 - val_loss: 0.4733\n",
            "Epoch 8/150\n",
            "19/19 [==============================] - 0s 2ms/step - loss: 0.5109 - val_loss: 0.4780\n",
            "Epoch 9/150\n",
            "19/19 [==============================] - 0s 2ms/step - loss: 0.5061 - val_loss: 0.4420\n",
            "Epoch 10/150\n",
            "19/19 [==============================] - 0s 2ms/step - loss: 0.4809 - val_loss: 0.4548\n",
            "Epoch 11/150\n",
            "19/19 [==============================] - 0s 2ms/step - loss: 0.4802 - val_loss: 0.5104\n",
            "Epoch 12/150\n",
            "19/19 [==============================] - 0s 3ms/step - loss: 0.4744 - val_loss: 0.4205\n",
            "Epoch 13/150\n",
            "19/19 [==============================] - 0s 2ms/step - loss: 0.4607 - val_loss: 0.4194\n",
            "Epoch 14/150\n",
            "19/19 [==============================] - 0s 2ms/step - loss: 0.4536 - val_loss: 0.4271\n",
            "Epoch 15/150\n",
            "19/19 [==============================] - 0s 2ms/step - loss: 0.4493 - val_loss: 0.4335\n",
            "Epoch 16/150\n",
            "19/19 [==============================] - 0s 2ms/step - loss: 0.4594 - val_loss: 0.4169\n",
            "Epoch 17/150\n",
            "19/19 [==============================] - 0s 3ms/step - loss: 0.4557 - val_loss: 0.4156\n",
            "Epoch 18/150\n",
            "19/19 [==============================] - 0s 2ms/step - loss: 0.4414 - val_loss: 0.4196\n",
            "Epoch 19/150\n",
            "19/19 [==============================] - 0s 3ms/step - loss: 0.4366 - val_loss: 0.4163\n",
            "Epoch 20/150\n",
            "19/19 [==============================] - 0s 2ms/step - loss: 0.4360 - val_loss: 0.4169\n",
            "Epoch 21/150\n",
            "19/19 [==============================] - 0s 2ms/step - loss: 0.4443 - val_loss: 0.4116\n",
            "Epoch 22/150\n",
            "19/19 [==============================] - 0s 2ms/step - loss: 0.4519 - val_loss: 0.4176\n",
            "Epoch 23/150\n",
            "19/19 [==============================] - 0s 2ms/step - loss: 0.4377 - val_loss: 0.4162\n",
            "Epoch 24/150\n",
            "19/19 [==============================] - 0s 2ms/step - loss: 0.4386 - val_loss: 0.4191\n",
            "Epoch 25/150\n",
            "19/19 [==============================] - 0s 2ms/step - loss: 0.4374 - val_loss: 0.4189\n",
            "Epoch 26/150\n",
            "19/19 [==============================] - 0s 2ms/step - loss: 0.4282 - val_loss: 0.4466\n",
            "Epoch 27/150\n",
            "19/19 [==============================] - 0s 2ms/step - loss: 0.4199 - val_loss: 0.4179\n",
            "Epoch 28/150\n",
            "19/19 [==============================] - 0s 2ms/step - loss: 0.4347 - val_loss: 0.4301\n",
            "Epoch 29/150\n",
            "19/19 [==============================] - 0s 2ms/step - loss: 0.4319 - val_loss: 0.4277\n",
            "Epoch 30/150\n",
            "19/19 [==============================] - 0s 2ms/step - loss: 0.4340 - val_loss: 0.4183\n",
            "Epoch 31/150\n",
            "19/19 [==============================] - 0s 2ms/step - loss: 0.4255 - val_loss: 0.4237\n",
            "Epoch 32/150\n",
            "19/19 [==============================] - 0s 2ms/step - loss: 0.4188 - val_loss: 0.4242\n",
            "Epoch 33/150\n",
            "19/19 [==============================] - 0s 2ms/step - loss: 0.4217 - val_loss: 0.4375\n",
            "Epoch 34/150\n",
            "19/19 [==============================] - 0s 2ms/step - loss: 0.4115 - val_loss: 0.4201\n",
            "Epoch 35/150\n",
            "19/19 [==============================] - 0s 2ms/step - loss: 0.4293 - val_loss: 0.4222\n",
            "Epoch 36/150\n",
            "19/19 [==============================] - 0s 2ms/step - loss: 0.4123 - val_loss: 0.4648\n",
            "Epoch 37/150\n",
            "19/19 [==============================] - 0s 2ms/step - loss: 0.4224 - val_loss: 0.4161\n",
            "Epoch 38/150\n",
            "19/19 [==============================] - 0s 2ms/step - loss: 0.4121 - val_loss: 0.4222\n",
            "Epoch 39/150\n",
            "19/19 [==============================] - 0s 3ms/step - loss: 0.4094 - val_loss: 0.4246\n",
            "Epoch 40/150\n",
            "19/19 [==============================] - 0s 2ms/step - loss: 0.4109 - val_loss: 0.4233\n",
            "Epoch 41/150\n",
            "19/19 [==============================] - 0s 2ms/step - loss: 0.4106 - val_loss: 0.4246\n",
            "Epoch 42/150\n",
            "19/19 [==============================] - 0s 2ms/step - loss: 0.4062 - val_loss: 0.4496\n",
            "Epoch 43/150\n",
            "19/19 [==============================] - 0s 2ms/step - loss: 0.4079 - val_loss: 0.4250\n",
            "Epoch 44/150\n",
            "19/19 [==============================] - 0s 2ms/step - loss: 0.4137 - val_loss: 0.4275\n",
            "Epoch 45/150\n",
            "19/19 [==============================] - 0s 2ms/step - loss: 0.3989 - val_loss: 0.4385\n",
            "Epoch 46/150\n",
            "19/19 [==============================] - 0s 2ms/step - loss: 0.4006 - val_loss: 0.4298\n",
            "Epoch 00046: early stopping\n"
          ],
          "name": "stdout"
        },
        {
          "output_type": "execute_result",
          "data": {
            "text/plain": [
              "<tensorflow.python.keras.callbacks.History at 0x7fd868e4b908>"
            ]
          },
          "metadata": {
            "tags": []
          },
          "execution_count": 19
        }
      ]
    },
    {
      "cell_type": "code",
      "metadata": {
        "colab": {
          "base_uri": "https://localhost:8080/",
          "height": 282
        },
        "id": "_tJaTStRocnk",
        "outputId": "c9167acc-7395-4d23-86dd-6bc4c304dc9b"
      },
      "source": [
        "model_loss = pd.DataFrame(model.history.history)\n",
        "model_loss.plot()"
      ],
      "execution_count": 20,
      "outputs": [
        {
          "output_type": "execute_result",
          "data": {
            "text/plain": [
              "<matplotlib.axes._subplots.AxesSubplot at 0x7fd86ae6d7b8>"
            ]
          },
          "metadata": {
            "tags": []
          },
          "execution_count": 20
        },
        {
          "output_type": "display_data",
          "data": {
            "image/png": "[encoded data removed]",
            "text/plain": [
              "<Figure size 432x288 with 1 Axes>"
            ]
          },
          "metadata": {
            "tags": []
          }
        }
      ]
    },
    {
      "cell_type": "code",
      "metadata": {
        "colab": {
          "base_uri": "https://localhost:8080/"
        },
        "id": "JyrxcmKuouzE",
        "outputId": "1d563f11-7e19-4aa2-b988-d387c9a817ce"
      },
      "source": [
        "\n",
        "predictions = model.predict_classes(X_test)"
      ],
      "execution_count": 21,
      "outputs": [
        {
          "output_type": "stream",
          "text": [
            "WARNING:tensorflow:From <ipython-input-21-0c330fea447a>:2: Sequential.predict_classes (from tensorflow.python.keras.engine.sequential) is deprecated and will be removed after 2021-01-01.\n",
            "Instructions for updating:\n",
            "Please use instead:* `np.argmax(model.predict(x), axis=-1)`,   if your model does multi-class classification   (e.g. if it uses a `softmax` last-layer activation).* `(model.predict(x) > 0.5).astype(\"int32\")`,   if your model does binary classification   (e.g. if it uses a `sigmoid` last-layer activation).\n"
          ],
          "name": "stdout"
        }
      ]
    },
    {
      "cell_type": "code",
      "metadata": {
        "id": "z-L5B6aPpiB2"
      },
      "source": [
        "from sklearn.metrics import classification_report,confusion_matrix"
      ],
      "execution_count": 22,
      "outputs": []
    },
    {
      "cell_type": "code",
      "metadata": {
        "colab": {
          "base_uri": "https://localhost:8080/"
        },
        "id": "jw1oE2T4pkfN",
        "outputId": "fa1ef920-8b1c-487d-83fe-9ca6860b0af0"
      },
      "source": [
        "print(classification_report(y_test,predictions))"
      ],
      "execution_count": 23,
      "outputs": [
        {
          "output_type": "stream",
          "text": [
            "              precision    recall  f1-score   support\n",
            "\n",
            "           0       0.84      0.87      0.85       111\n",
            "           1       0.74      0.67      0.70        58\n",
            "\n",
            "    accuracy                           0.80       169\n",
            "   macro avg       0.79      0.77      0.78       169\n",
            "weighted avg       0.80      0.80      0.80       169\n",
            "\n"
          ],
          "name": "stdout"
        }
      ]
    },
    {
      "cell_type": "code",
      "metadata": {
        "colab": {
          "base_uri": "https://localhost:8080/"
        },
        "id": "a_rXFXzlpn6C",
        "outputId": "92dbb184-8f26-47ee-e83d-1fe726267a05"
      },
      "source": [
        "print(confusion_matrix(y_test,predictions))"
      ],
      "execution_count": 24,
      "outputs": [
        {
          "output_type": "stream",
          "text": [
            "[[97 14]\n",
            " [19 39]]\n"
          ],
          "name": "stdout"
        }
      ]
    },
    {
      "cell_type": "code",
      "metadata": {
        "id": "fBtKrcQJpy-h"
      },
      "source": [
        ""
      ],
      "execution_count": 24,
      "outputs": []
    }
  ]
}