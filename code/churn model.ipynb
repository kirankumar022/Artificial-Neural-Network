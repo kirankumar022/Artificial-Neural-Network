{
  "nbformat": 4,
  "nbformat_minor": 0,
  "metadata": {
    "colab": {
      "name": "Untitled0.ipynb",
      "provenance": []
    },
    "kernelspec": {
      "name": "python3",
      "display_name": "Python 3"
    },
    "accelerator": "TPU"
  },
  "cells": [
    {
      "cell_type": "code",
      "metadata": {
        "colab": {
          "resources": {
            "http://localhost:8080/nbextensions/google.colab/files.js": {
              "data": "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",
              "ok": true,
              "headers": [
                [
                  "content-type",
                  "application/javascript"
                ]
              ],
              "status": 200,
              "status_text": ""
            }
          },
          "base_uri": "https://localhost:8080/",
          "height": 72
        },
        "id": "sI71w55J-vKR",
        "outputId": "5d076758-27e8-4c1f-ad7e-a0839efd6d9c"
      },
      "source": [
        "\n",
        "from google.colab import files\n",
        "uploaded = files.upload()\n"
      ],
      "execution_count": 1,
      "outputs": [
        {
          "output_type": "display_data",
          "data": {
            "text/html": [
              "\n",
              "     <input type=\"file\" id=\"files-d6cbd1b2-eaaa-470b-a5fb-ed95c230c3f7\" name=\"files[]\" multiple disabled\n",
              "        style=\"border:none\" />\n",
              "     <output id=\"result-d6cbd1b2-eaaa-470b-a5fb-ed95c230c3f7\">\n",
              "      Upload widget is only available when the cell has been executed in the\n",
              "      current browser session. Please rerun this cell to enable.\n",
              "      </output>\n",
              "      <script src=\"/nbextensions/google.colab/files.js\"></script> "
            ],
            "text/plain": [
              "<IPython.core.display.HTML object>"
            ]
          },
          "metadata": {
            "tags": []
          }
        },
        {
          "output_type": "stream",
          "text": [
            "Saving Churn_Modelling.csv to Churn_Modelling (3).csv\n"
          ],
          "name": "stdout"
        }
      ]
    },
    {
      "cell_type": "code",
      "metadata": {
        "colab": {
          "base_uri": "https://localhost:8080/",
          "height": 333
        },
        "id": "HsJy8JiE_Rs2",
        "outputId": "c66ffbd3-fabc-40e5-975e-38ed38d6273e"
      },
      "source": [
        "import pandas as pd\n",
        "data=pd.read_csv(\"Churn_Modelling.csv\")\n",
        "data.head()\n",
        "data=data.drop([\"CustomerId\",\"RowNumber\",\"Surname\"],axis=1)\n",
        "data.head()\n",
        "data['Geography'].unique()\n",
        "k=pd.get_dummies(data['Geography'],drop_first=True)\n",
        "k.head()\n",
        "from sklearn.preprocessing import LabelEncoder\n",
        "data['Gender']=LabelEncoder().fit_transform(data['Gender'])\n",
        "data.head()\n",
        "import seaborn as sns\n",
        "sns.countplot(data['Gender'])\n",
        "data=data.join(k)\n",
        "data.head()\n",
        "data=data.drop(\"Geography\",axis=1)\n"
      ],
      "execution_count": 2,
      "outputs": [
        {
          "output_type": "stream",
          "text": [
            "/usr/local/lib/python3.6/dist-packages/seaborn/_decorators.py:43: FutureWarning: Pass the following variable as a keyword arg: x. From version 0.12, the only valid positional argument will be `data`, and passing other arguments without an explicit keyword will result in an error or misinterpretation.\n",
            "  FutureWarning\n"
          ],
          "name": "stderr"
        },
        {
          "output_type": "display_data",
          "data": {
            "image/png": "[encoded data removed]",
            "text/plain": [
              "<Figure size 432x288 with 1 Axes>"
            ]
          },
          "metadata": {
            "tags": [],
            "needs_background": "light"
          }
        }
      ]
    },
    {
      "cell_type": "code",
      "metadata": {
        "colab": {
          "base_uri": "https://localhost:8080/",
          "height": 204
        },
        "id": "3qIi-itt_JMf",
        "outputId": "7495ad3d-b6e5-4e10-8586-bf106cdcea9d"
      },
      "source": [
        "data.head()"
      ],
      "execution_count": 3,
      "outputs": [
        {
          "output_type": "execute_result",
          "data": {
            "text/html": [
              "<div>\n",
              "<style scoped>\n",
              "    .dataframe tbody tr th:only-of-type {\n",
              "        vertical-align: middle;\n",
              "    }\n",
              "\n",
              "    .dataframe tbody tr th {\n",
              "        vertical-align: top;\n",
              "    }\n",
              "\n",
              "    .dataframe thead th {\n",
              "        text-align: right;\n",
              "    }\n",
              "</style>\n",
              "<table border=\"1\" class=\"dataframe\">\n",
              "  <thead>\n",
              "    <tr style=\"text-align: right;\">\n",
              "      <th></th>\n",
              "      <th>CreditScore</th>\n",
              "      <th>Gender</th>\n",
              "      <th>Age</th>\n",
              "      <th>Tenure</th>\n",
              "      <th>Balance</th>\n",
              "      <th>NumOfProducts</th>\n",
              "      <th>HasCrCard</th>\n",
              "      <th>IsActiveMember</th>\n",
              "      <th>EstimatedSalary</th>\n",
              "      <th>Exited</th>\n",
              "      <th>Germany</th>\n",
              "      <th>Spain</th>\n",
              "    </tr>\n",
              "  </thead>\n",
              "  <tbody>\n",
              "    <tr>\n",
              "      <th>0</th>\n",
              "      <td>619</td>\n",
              "      <td>0</td>\n",
              "      <td>42</td>\n",
              "      <td>2</td>\n",
              "      <td>0.00</td>\n",
              "      <td>1</td>\n",
              "      <td>1</td>\n",
              "      <td>1</td>\n",
              "      <td>101348.88</td>\n",
              "      <td>1</td>\n",
              "      <td>0</td>\n",
              "      <td>0</td>\n",
              "    </tr>\n",
              "    <tr>\n",
              "      <th>1</th>\n",
              "      <td>608</td>\n",
              "      <td>0</td>\n",
              "      <td>41</td>\n",
              "      <td>1</td>\n",
              "      <td>83807.86</td>\n",
              "      <td>1</td>\n",
              "      <td>0</td>\n",
              "      <td>1</td>\n",
              "      <td>112542.58</td>\n",
              "      <td>0</td>\n",
              "      <td>0</td>\n",
              "      <td>1</td>\n",
              "    </tr>\n",
              "    <tr>\n",
              "      <th>2</th>\n",
              "      <td>502</td>\n",
              "      <td>0</td>\n",
              "      <td>42</td>\n",
              "      <td>8</td>\n",
              "      <td>159660.80</td>\n",
              "      <td>3</td>\n",
              "      <td>1</td>\n",
              "      <td>0</td>\n",
              "      <td>113931.57</td>\n",
              "      <td>1</td>\n",
              "      <td>0</td>\n",
              "      <td>0</td>\n",
              "    </tr>\n",
              "    <tr>\n",
              "      <th>3</th>\n",
              "      <td>699</td>\n",
              "      <td>0</td>\n",
              "      <td>39</td>\n",
              "      <td>1</td>\n",
              "      <td>0.00</td>\n",
              "      <td>2</td>\n",
              "      <td>0</td>\n",
              "      <td>0</td>\n",
              "      <td>93826.63</td>\n",
              "      <td>0</td>\n",
              "      <td>0</td>\n",
              "      <td>0</td>\n",
              "    </tr>\n",
              "    <tr>\n",
              "      <th>4</th>\n",
              "      <td>850</td>\n",
              "      <td>0</td>\n",
              "      <td>43</td>\n",
              "      <td>2</td>\n",
              "      <td>125510.82</td>\n",
              "      <td>1</td>\n",
              "      <td>1</td>\n",
              "      <td>1</td>\n",
              "      <td>79084.10</td>\n",
              "      <td>0</td>\n",
              "      <td>0</td>\n",
              "      <td>1</td>\n",
              "    </tr>\n",
              "  </tbody>\n",
              "</table>\n",
              "</div>"
            ],
            "text/plain": [
              "   CreditScore  Gender  Age  Tenure  ...  EstimatedSalary  Exited  Germany  Spain\n",
              "0          619       0   42       2  ...        101348.88       1        0      0\n",
              "1          608       0   41       1  ...        112542.58       0        0      1\n",
              "2          502       0   42       8  ...        113931.57       1        0      0\n",
              "3          699       0   39       1  ...         93826.63       0        0      0\n",
              "4          850       0   43       2  ...         79084.10       0        0      1\n",
              "\n",
              "[5 rows x 12 columns]"
            ]
          },
          "metadata": {
            "tags": []
          },
          "execution_count": 3
        }
      ]
    },
    {
      "cell_type": "code",
      "metadata": {
        "colab": {
          "base_uri": "https://localhost:8080/"
        },
        "id": "iePdb7ty__jH",
        "outputId": "609f6069-1802-4013-da1b-99e763d9c3d1"
      },
      "source": [
        "data.columns"
      ],
      "execution_count": 4,
      "outputs": [
        {
          "output_type": "execute_result",
          "data": {
            "text/plain": [
              "Index(['CreditScore', 'Gender', 'Age', 'Tenure', 'Balance', 'NumOfProducts',\n",
              "       'HasCrCard', 'IsActiveMember', 'EstimatedSalary', 'Exited', 'Germany',\n",
              "       'Spain'],\n",
              "      dtype='object')"
            ]
          },
          "metadata": {
            "tags": []
          },
          "execution_count": 4
        }
      ]
    },
    {
      "cell_type": "code",
      "metadata": {
        "id": "DAiO7ANmAea-"
      },
      "source": [
        "X = data.drop('Exited',axis=1)\n",
        "y = data['Exited']"
      ],
      "execution_count": 5,
      "outputs": []
    },
    {
      "cell_type": "code",
      "metadata": {
        "colab": {
          "base_uri": "https://localhost:8080/"
        },
        "id": "S7bf37GkHX3i",
        "outputId": "49916039-9416-4ec8-af13-5557a1c91d88"
      },
      "source": [
        "X.columns"
      ],
      "execution_count": 6,
      "outputs": [
        {
          "output_type": "execute_result",
          "data": {
            "text/plain": [
              "Index(['CreditScore', 'Gender', 'Age', 'Tenure', 'Balance', 'NumOfProducts',\n",
              "       'HasCrCard', 'IsActiveMember', 'EstimatedSalary', 'Germany', 'Spain'],\n",
              "      dtype='object')"
            ]
          },
          "metadata": {
            "tags": []
          },
          "execution_count": 6
        }
      ]
    },
    {
      "cell_type": "code",
      "metadata": {
        "colab": {
          "base_uri": "https://localhost:8080/"
        },
        "id": "SSRsIRPdHaOy",
        "outputId": "b801eada-3444-4396-b2b6-3fbb3642c2ae"
      },
      "source": [
        "y"
      ],
      "execution_count": 7,
      "outputs": [
        {
          "output_type": "execute_result",
          "data": {
            "text/plain": [
              "0       1\n",
              "1       0\n",
              "2       1\n",
              "3       0\n",
              "4       0\n",
              "       ..\n",
              "9995    0\n",
              "9996    0\n",
              "9997    1\n",
              "9998    1\n",
              "9999    0\n",
              "Name: Exited, Length: 10000, dtype: int64"
            ]
          },
          "metadata": {
            "tags": []
          },
          "execution_count": 7
        }
      ]
    },
    {
      "cell_type": "code",
      "metadata": {
        "id": "hVWRK6R6CQFX"
      },
      "source": [
        "from sklearn.model_selection import train_test_split\n",
        "X_train, X_test, y_train, y_test = train_test_split(X,y,test_size=0.2,random_state=101)"
      ],
      "execution_count": 8,
      "outputs": []
    },
    {
      "cell_type": "code",
      "metadata": {
        "id": "P4Q_uicFOKWN"
      },
      "source": [
        "from sklearn.preprocessing import MinMaxScaler\n",
        "scaler = MinMaxScaler()"
      ],
      "execution_count": 9,
      "outputs": []
    },
    {
      "cell_type": "code",
      "metadata": {
        "id": "DEV96e3AOJyW"
      },
      "source": [
        "X_train= scaler.fit_transform(X_train)\n",
        "X_test = scaler.transform(X_test)"
      ],
      "execution_count": 10,
      "outputs": []
    },
    {
      "cell_type": "code",
      "metadata": {
        "colab": {
          "base_uri": "https://localhost:8080/"
        },
        "id": "R25yJt5CGf_P",
        "outputId": "d80e0709-4e31-471b-fe15-9d59034d5c54"
      },
      "source": [
        "X_train.shape"
      ],
      "execution_count": 11,
      "outputs": [
        {
          "output_type": "execute_result",
          "data": {
            "text/plain": [
              "(8000, 11)"
            ]
          },
          "metadata": {
            "tags": []
          },
          "execution_count": 11
        }
      ]
    },
    {
      "cell_type": "code",
      "metadata": {
        "colab": {
          "base_uri": "https://localhost:8080/"
        },
        "id": "2pN3BJNmHQ70",
        "outputId": "1f81f2fe-f664-4058-a28e-fa63aa01f4fb"
      },
      "source": [
        "X_test.shape"
      ],
      "execution_count": 12,
      "outputs": [
        {
          "output_type": "execute_result",
          "data": {
            "text/plain": [
              "(2000, 11)"
            ]
          },
          "metadata": {
            "tags": []
          },
          "execution_count": 12
        }
      ]
    },
    {
      "cell_type": "code",
      "metadata": {
        "colab": {
          "base_uri": "https://localhost:8080/"
        },
        "id": "Yrg4rgynGmaM",
        "outputId": "aca32b68-439f-4cbc-c692-47914ad89668"
      },
      "source": [
        "y_test.shape"
      ],
      "execution_count": 13,
      "outputs": [
        {
          "output_type": "execute_result",
          "data": {
            "text/plain": [
              "(2000,)"
            ]
          },
          "metadata": {
            "tags": []
          },
          "execution_count": 13
        }
      ]
    },
    {
      "cell_type": "code",
      "metadata": {
        "id": "iSzkfTj5B6dk"
      },
      "source": [
        "import tensorflow as tf\n",
        "from tensorflow.keras.models import Sequential\n",
        "from tensorflow.keras.layers import Dense, Activation,Dropout\n",
        "model = Sequential()\n",
        "model.add(Dense(units=60,activation='relu'))\n",
        "model.add(Dense(units=50,activation='relu'))\n",
        "model.add(Dense(units=1,activation='sigmoid'))\n",
        "model.compile(loss='binary_crossentropy', optimizer='adam')\n"
      ],
      "execution_count": 14,
      "outputs": []
    },
    {
      "cell_type": "code",
      "metadata": {
        "colab": {
          "base_uri": "https://localhost:8080/"
        },
        "id": "M9XeO_-yDHRj",
        "outputId": "bdc2fe57-e0d1-475c-9ed9-eb88526663c6"
      },
      "source": [
        "model.fit(x=X_train,  y=y_train, epochs=250, validation_data=(X_test, y_test), verbose=1)"
      ],
      "execution_count": 15,
      "outputs": [
        {
          "output_type": "stream",
          "text": [
            "Epoch 1/250\n",
            "250/250 [==============================] - 1s 2ms/step - loss: 0.4839 - val_loss: 0.4572\n",
            "Epoch 2/250\n",
            "250/250 [==============================] - 0s 1ms/step - loss: 0.4434 - val_loss: 0.4362\n",
            "Epoch 3/250\n",
            "250/250 [==============================] - 0s 1ms/step - loss: 0.4241 - val_loss: 0.4119\n",
            "Epoch 4/250\n",
            "250/250 [==============================] - 0s 1ms/step - loss: 0.4064 - val_loss: 0.3905\n",
            "Epoch 5/250\n",
            "250/250 [==============================] - 0s 1ms/step - loss: 0.3815 - val_loss: 0.3641\n",
            "Epoch 6/250\n",
            "250/250 [==============================] - 0s 1ms/step - loss: 0.3703 - val_loss: 0.3549\n",
            "Epoch 7/250\n",
            "250/250 [==============================] - 0s 1ms/step - loss: 0.3610 - val_loss: 0.3495\n",
            "Epoch 8/250\n",
            "250/250 [==============================] - 0s 1ms/step - loss: 0.3570 - val_loss: 0.3453\n",
            "Epoch 9/250\n",
            "250/250 [==============================] - 0s 1ms/step - loss: 0.3531 - val_loss: 0.3459\n",
            "Epoch 10/250\n",
            "250/250 [==============================] - 0s 1ms/step - loss: 0.3524 - val_loss: 0.3380\n",
            "Epoch 11/250\n",
            "250/250 [==============================] - 0s 1ms/step - loss: 0.3503 - val_loss: 0.3419\n",
            "Epoch 12/250\n",
            "250/250 [==============================] - 0s 1ms/step - loss: 0.3479 - val_loss: 0.3385\n",
            "Epoch 13/250\n",
            "250/250 [==============================] - 0s 1ms/step - loss: 0.3477 - val_loss: 0.3356\n",
            "Epoch 14/250\n",
            "250/250 [==============================] - 0s 1ms/step - loss: 0.3468 - val_loss: 0.3376\n",
            "Epoch 15/250\n",
            "250/250 [==============================] - 0s 1ms/step - loss: 0.3452 - val_loss: 0.3362\n",
            "Epoch 16/250\n",
            "250/250 [==============================] - 0s 1ms/step - loss: 0.3437 - val_loss: 0.3389\n",
            "Epoch 17/250\n",
            "250/250 [==============================] - 0s 1ms/step - loss: 0.3415 - val_loss: 0.3356\n",
            "Epoch 18/250\n",
            "250/250 [==============================] - 0s 1ms/step - loss: 0.3401 - val_loss: 0.3348\n",
            "Epoch 19/250\n",
            "250/250 [==============================] - 0s 1ms/step - loss: 0.3399 - val_loss: 0.3365\n",
            "Epoch 20/250\n",
            "250/250 [==============================] - 0s 1ms/step - loss: 0.3385 - val_loss: 0.3508\n",
            "Epoch 21/250\n",
            "250/250 [==============================] - 0s 1ms/step - loss: 0.3387 - val_loss: 0.3393\n",
            "Epoch 22/250\n",
            "250/250 [==============================] - 0s 1ms/step - loss: 0.3374 - val_loss: 0.3447\n",
            "Epoch 23/250\n",
            "250/250 [==============================] - 0s 1ms/step - loss: 0.3363 - val_loss: 0.3339\n",
            "Epoch 24/250\n",
            "250/250 [==============================] - 0s 1ms/step - loss: 0.3350 - val_loss: 0.3333\n",
            "Epoch 25/250\n",
            "250/250 [==============================] - 0s 1ms/step - loss: 0.3355 - val_loss: 0.3408\n",
            "Epoch 26/250\n",
            "250/250 [==============================] - 0s 1ms/step - loss: 0.3360 - val_loss: 0.3352\n",
            "Epoch 27/250\n",
            "250/250 [==============================] - 0s 1ms/step - loss: 0.3354 - val_loss: 0.3335\n",
            "Epoch 28/250\n",
            "250/250 [==============================] - 0s 1ms/step - loss: 0.3331 - val_loss: 0.3316\n",
            "Epoch 29/250\n",
            "250/250 [==============================] - 0s 1ms/step - loss: 0.3320 - val_loss: 0.3315\n",
            "Epoch 30/250\n",
            "250/250 [==============================] - 0s 1ms/step - loss: 0.3320 - val_loss: 0.3339\n",
            "Epoch 31/250\n",
            "250/250 [==============================] - 0s 1ms/step - loss: 0.3323 - val_loss: 0.3379\n",
            "Epoch 32/250\n",
            "250/250 [==============================] - 0s 1ms/step - loss: 0.3303 - val_loss: 0.3324\n",
            "Epoch 33/250\n",
            "250/250 [==============================] - 0s 1ms/step - loss: 0.3307 - val_loss: 0.3300\n",
            "Epoch 34/250\n",
            "250/250 [==============================] - 0s 1ms/step - loss: 0.3290 - val_loss: 0.3436\n",
            "Epoch 35/250\n",
            "250/250 [==============================] - 0s 1ms/step - loss: 0.3304 - val_loss: 0.3447\n",
            "Epoch 36/250\n",
            "250/250 [==============================] - 0s 1ms/step - loss: 0.3284 - val_loss: 0.3322\n",
            "Epoch 37/250\n",
            "250/250 [==============================] - 0s 1ms/step - loss: 0.3281 - val_loss: 0.3404\n",
            "Epoch 38/250\n",
            "250/250 [==============================] - 0s 1ms/step - loss: 0.3261 - val_loss: 0.3302\n",
            "Epoch 39/250\n",
            "250/250 [==============================] - 0s 1ms/step - loss: 0.3280 - val_loss: 0.3308\n",
            "Epoch 40/250\n",
            "250/250 [==============================] - 0s 1ms/step - loss: 0.3268 - val_loss: 0.3329\n",
            "Epoch 41/250\n",
            "250/250 [==============================] - 0s 1ms/step - loss: 0.3254 - val_loss: 0.3305\n",
            "Epoch 42/250\n",
            "250/250 [==============================] - 0s 1ms/step - loss: 0.3255 - val_loss: 0.3315\n",
            "Epoch 43/250\n",
            "250/250 [==============================] - 0s 1ms/step - loss: 0.3253 - val_loss: 0.3324\n",
            "Epoch 44/250\n",
            "250/250 [==============================] - 0s 1ms/step - loss: 0.3241 - val_loss: 0.3324\n",
            "Epoch 45/250\n",
            "250/250 [==============================] - 0s 1ms/step - loss: 0.3233 - val_loss: 0.3360\n",
            "Epoch 46/250\n",
            "250/250 [==============================] - 0s 1ms/step - loss: 0.3235 - val_loss: 0.3352\n",
            "Epoch 47/250\n",
            "250/250 [==============================] - 0s 1ms/step - loss: 0.3230 - val_loss: 0.3308\n",
            "Epoch 48/250\n",
            "250/250 [==============================] - 0s 1ms/step - loss: 0.3213 - val_loss: 0.3318\n",
            "Epoch 49/250\n",
            "250/250 [==============================] - 0s 1ms/step - loss: 0.3219 - val_loss: 0.3341\n",
            "Epoch 50/250\n",
            "250/250 [==============================] - 0s 1ms/step - loss: 0.3207 - val_loss: 0.3331\n",
            "Epoch 51/250\n",
            "250/250 [==============================] - 0s 1ms/step - loss: 0.3213 - val_loss: 0.3318\n",
            "Epoch 52/250\n",
            "250/250 [==============================] - 0s 1ms/step - loss: 0.3202 - val_loss: 0.3339\n",
            "Epoch 53/250\n",
            "250/250 [==============================] - 0s 1ms/step - loss: 0.3212 - val_loss: 0.3407\n",
            "Epoch 54/250\n",
            "250/250 [==============================] - 0s 1ms/step - loss: 0.3201 - val_loss: 0.3380\n",
            "Epoch 55/250\n",
            "250/250 [==============================] - 0s 1ms/step - loss: 0.3205 - val_loss: 0.3315\n",
            "Epoch 56/250\n",
            "250/250 [==============================] - 0s 1ms/step - loss: 0.3181 - val_loss: 0.3358\n",
            "Epoch 57/250\n",
            "250/250 [==============================] - 0s 1ms/step - loss: 0.3187 - val_loss: 0.3334\n",
            "Epoch 58/250\n",
            "250/250 [==============================] - 0s 1ms/step - loss: 0.3187 - val_loss: 0.3327\n",
            "Epoch 59/250\n",
            "250/250 [==============================] - 0s 1ms/step - loss: 0.3160 - val_loss: 0.3346\n",
            "Epoch 60/250\n",
            "250/250 [==============================] - 0s 1ms/step - loss: 0.3172 - val_loss: 0.3323\n",
            "Epoch 61/250\n",
            "250/250 [==============================] - 0s 1ms/step - loss: 0.3167 - val_loss: 0.3341\n",
            "Epoch 62/250\n",
            "250/250 [==============================] - 0s 1ms/step - loss: 0.3157 - val_loss: 0.3327\n",
            "Epoch 63/250\n",
            "250/250 [==============================] - 0s 1ms/step - loss: 0.3141 - val_loss: 0.3355\n",
            "Epoch 64/250\n",
            "250/250 [==============================] - 0s 1ms/step - loss: 0.3149 - val_loss: 0.3373\n",
            "Epoch 65/250\n",
            "250/250 [==============================] - 0s 1ms/step - loss: 0.3140 - val_loss: 0.3365\n",
            "Epoch 66/250\n",
            "250/250 [==============================] - 0s 1ms/step - loss: 0.3153 - val_loss: 0.3403\n",
            "Epoch 67/250\n",
            "250/250 [==============================] - 0s 1ms/step - loss: 0.3138 - val_loss: 0.3366\n",
            "Epoch 68/250\n",
            "250/250 [==============================] - 0s 1ms/step - loss: 0.3140 - val_loss: 0.3341\n",
            "Epoch 69/250\n",
            "250/250 [==============================] - 0s 1ms/step - loss: 0.3135 - val_loss: 0.3362\n",
            "Epoch 70/250\n",
            "250/250 [==============================] - 0s 1ms/step - loss: 0.3116 - val_loss: 0.3336\n",
            "Epoch 71/250\n",
            "250/250 [==============================] - 0s 1ms/step - loss: 0.3108 - val_loss: 0.3325\n",
            "Epoch 72/250\n",
            "250/250 [==============================] - 0s 1ms/step - loss: 0.3113 - val_loss: 0.3326\n",
            "Epoch 73/250\n",
            "250/250 [==============================] - 0s 1ms/step - loss: 0.3112 - val_loss: 0.3347\n",
            "Epoch 74/250\n",
            "250/250 [==============================] - 0s 1ms/step - loss: 0.3110 - val_loss: 0.3312\n",
            "Epoch 75/250\n",
            "250/250 [==============================] - 0s 1ms/step - loss: 0.3092 - val_loss: 0.3352\n",
            "Epoch 76/250\n",
            "250/250 [==============================] - 0s 1ms/step - loss: 0.3100 - val_loss: 0.3429\n",
            "Epoch 77/250\n",
            "250/250 [==============================] - 0s 1ms/step - loss: 0.3100 - val_loss: 0.3406\n",
            "Epoch 78/250\n",
            "250/250 [==============================] - 0s 1ms/step - loss: 0.3096 - val_loss: 0.3384\n",
            "Epoch 79/250\n",
            "250/250 [==============================] - 0s 1ms/step - loss: 0.3112 - val_loss: 0.3475\n",
            "Epoch 80/250\n",
            "250/250 [==============================] - 0s 1ms/step - loss: 0.3088 - val_loss: 0.3384\n",
            "Epoch 81/250\n",
            "250/250 [==============================] - 0s 1ms/step - loss: 0.3078 - val_loss: 0.3376\n",
            "Epoch 82/250\n",
            "250/250 [==============================] - 0s 1ms/step - loss: 0.3089 - val_loss: 0.3452\n",
            "Epoch 83/250\n",
            "250/250 [==============================] - 0s 1ms/step - loss: 0.3059 - val_loss: 0.3394\n",
            "Epoch 84/250\n",
            "250/250 [==============================] - 0s 1ms/step - loss: 0.3069 - val_loss: 0.3348\n",
            "Epoch 85/250\n",
            "250/250 [==============================] - 0s 1ms/step - loss: 0.3071 - val_loss: 0.3370\n",
            "Epoch 86/250\n",
            "250/250 [==============================] - 0s 1ms/step - loss: 0.3064 - val_loss: 0.3346\n",
            "Epoch 87/250\n",
            "250/250 [==============================] - 0s 1ms/step - loss: 0.3073 - val_loss: 0.3388\n",
            "Epoch 88/250\n",
            "250/250 [==============================] - 0s 1ms/step - loss: 0.3048 - val_loss: 0.3379\n",
            "Epoch 89/250\n",
            "250/250 [==============================] - 0s 1ms/step - loss: 0.3051 - val_loss: 0.3379\n",
            "Epoch 90/250\n",
            "250/250 [==============================] - 0s 1ms/step - loss: 0.3045 - val_loss: 0.3380\n",
            "Epoch 91/250\n",
            "250/250 [==============================] - 0s 2ms/step - loss: 0.3042 - val_loss: 0.3377\n",
            "Epoch 92/250\n",
            "250/250 [==============================] - 0s 1ms/step - loss: 0.3052 - val_loss: 0.3397\n",
            "Epoch 93/250\n",
            "250/250 [==============================] - 0s 1ms/step - loss: 0.3041 - val_loss: 0.3430\n",
            "Epoch 94/250\n",
            "250/250 [==============================] - 0s 2ms/step - loss: 0.3045 - val_loss: 0.3388\n",
            "Epoch 95/250\n",
            "250/250 [==============================] - 0s 1ms/step - loss: 0.3049 - val_loss: 0.3478\n",
            "Epoch 96/250\n",
            "250/250 [==============================] - 0s 1ms/step - loss: 0.3035 - val_loss: 0.3434\n",
            "Epoch 97/250\n",
            "250/250 [==============================] - 0s 1ms/step - loss: 0.3039 - val_loss: 0.3427\n",
            "Epoch 98/250\n",
            "250/250 [==============================] - 0s 1ms/step - loss: 0.3004 - val_loss: 0.3445\n",
            "Epoch 99/250\n",
            "250/250 [==============================] - 0s 1ms/step - loss: 0.3014 - val_loss: 0.3448\n",
            "Epoch 100/250\n",
            "250/250 [==============================] - 0s 1ms/step - loss: 0.3007 - val_loss: 0.3410\n",
            "Epoch 101/250\n",
            "250/250 [==============================] - 0s 1ms/step - loss: 0.3000 - val_loss: 0.3448\n",
            "Epoch 102/250\n",
            "250/250 [==============================] - 0s 2ms/step - loss: 0.2996 - val_loss: 0.3472\n",
            "Epoch 103/250\n",
            "250/250 [==============================] - 0s 1ms/step - loss: 0.3009 - val_loss: 0.3420\n",
            "Epoch 104/250\n",
            "250/250 [==============================] - 0s 1ms/step - loss: 0.2998 - val_loss: 0.3517\n",
            "Epoch 105/250\n",
            "250/250 [==============================] - 0s 1ms/step - loss: 0.2997 - val_loss: 0.3471\n",
            "Epoch 106/250\n",
            "250/250 [==============================] - 0s 1ms/step - loss: 0.2980 - val_loss: 0.3479\n",
            "Epoch 107/250\n",
            "250/250 [==============================] - 0s 1ms/step - loss: 0.2974 - val_loss: 0.3544\n",
            "Epoch 108/250\n",
            "250/250 [==============================] - 0s 1ms/step - loss: 0.2977 - val_loss: 0.3495\n",
            "Epoch 109/250\n",
            "250/250 [==============================] - 0s 1ms/step - loss: 0.2984 - val_loss: 0.3639\n",
            "Epoch 110/250\n",
            "250/250 [==============================] - 0s 1ms/step - loss: 0.2964 - val_loss: 0.3442\n",
            "Epoch 111/250\n",
            "250/250 [==============================] - 0s 1ms/step - loss: 0.2960 - val_loss: 0.3499\n",
            "Epoch 112/250\n",
            "250/250 [==============================] - 0s 1ms/step - loss: 0.2951 - val_loss: 0.3505\n",
            "Epoch 113/250\n",
            "250/250 [==============================] - 0s 1ms/step - loss: 0.2960 - val_loss: 0.3488\n",
            "Epoch 114/250\n",
            "250/250 [==============================] - 0s 2ms/step - loss: 0.2957 - val_loss: 0.3500\n",
            "Epoch 115/250\n",
            "250/250 [==============================] - 0s 1ms/step - loss: 0.2961 - val_loss: 0.3555\n",
            "Epoch 116/250\n",
            "250/250 [==============================] - 0s 1ms/step - loss: 0.2938 - val_loss: 0.3458\n",
            "Epoch 117/250\n",
            "250/250 [==============================] - 0s 1ms/step - loss: 0.2944 - val_loss: 0.3538\n",
            "Epoch 118/250\n",
            "250/250 [==============================] - 0s 1ms/step - loss: 0.2947 - val_loss: 0.3505\n",
            "Epoch 119/250\n",
            "250/250 [==============================] - 0s 1ms/step - loss: 0.2919 - val_loss: 0.3557\n",
            "Epoch 120/250\n",
            "250/250 [==============================] - 0s 1ms/step - loss: 0.2933 - val_loss: 0.3501\n",
            "Epoch 121/250\n",
            "250/250 [==============================] - 0s 1ms/step - loss: 0.2929 - val_loss: 0.3533\n",
            "Epoch 122/250\n",
            "250/250 [==============================] - 0s 1ms/step - loss: 0.2917 - val_loss: 0.3593\n",
            "Epoch 123/250\n",
            "250/250 [==============================] - 0s 1ms/step - loss: 0.2923 - val_loss: 0.3584\n",
            "Epoch 124/250\n",
            "250/250 [==============================] - 0s 1ms/step - loss: 0.2908 - val_loss: 0.3560\n",
            "Epoch 125/250\n",
            "250/250 [==============================] - 0s 1ms/step - loss: 0.2911 - val_loss: 0.3568\n",
            "Epoch 126/250\n",
            "250/250 [==============================] - 0s 1ms/step - loss: 0.2899 - val_loss: 0.3584\n",
            "Epoch 127/250\n",
            "250/250 [==============================] - 0s 1ms/step - loss: 0.2897 - val_loss: 0.3564\n",
            "Epoch 128/250\n",
            "250/250 [==============================] - 0s 1ms/step - loss: 0.2887 - val_loss: 0.3690\n",
            "Epoch 129/250\n",
            "250/250 [==============================] - 0s 1ms/step - loss: 0.2886 - val_loss: 0.3547\n",
            "Epoch 130/250\n",
            "250/250 [==============================] - 0s 1ms/step - loss: 0.2889 - val_loss: 0.3584\n",
            "Epoch 131/250\n",
            "250/250 [==============================] - 0s 2ms/step - loss: 0.2882 - val_loss: 0.3671\n",
            "Epoch 132/250\n",
            "250/250 [==============================] - 0s 1ms/step - loss: 0.2879 - val_loss: 0.3575\n",
            "Epoch 133/250\n",
            "250/250 [==============================] - 0s 1ms/step - loss: 0.2879 - val_loss: 0.3586\n",
            "Epoch 134/250\n",
            "250/250 [==============================] - 0s 1ms/step - loss: 0.2885 - val_loss: 0.3604\n",
            "Epoch 135/250\n",
            "250/250 [==============================] - 0s 1ms/step - loss: 0.2893 - val_loss: 0.3583\n",
            "Epoch 136/250\n",
            "250/250 [==============================] - 0s 1ms/step - loss: 0.2864 - val_loss: 0.3573\n",
            "Epoch 137/250\n",
            "250/250 [==============================] - 0s 1ms/step - loss: 0.2853 - val_loss: 0.3597\n",
            "Epoch 138/250\n",
            "250/250 [==============================] - 0s 1ms/step - loss: 0.2873 - val_loss: 0.3570\n",
            "Epoch 139/250\n",
            "250/250 [==============================] - 0s 1ms/step - loss: 0.2855 - val_loss: 0.3625\n",
            "Epoch 140/250\n",
            "250/250 [==============================] - 0s 1ms/step - loss: 0.2852 - val_loss: 0.3593\n",
            "Epoch 141/250\n",
            "250/250 [==============================] - 0s 1ms/step - loss: 0.2832 - val_loss: 0.3616\n",
            "Epoch 142/250\n",
            "250/250 [==============================] - 0s 1ms/step - loss: 0.2838 - val_loss: 0.3592\n",
            "Epoch 143/250\n",
            "250/250 [==============================] - 0s 1ms/step - loss: 0.2826 - val_loss: 0.3630\n",
            "Epoch 144/250\n",
            "250/250 [==============================] - 0s 1ms/step - loss: 0.2838 - val_loss: 0.3616\n",
            "Epoch 145/250\n",
            "250/250 [==============================] - 0s 1ms/step - loss: 0.2838 - val_loss: 0.3743\n",
            "Epoch 146/250\n",
            "250/250 [==============================] - 0s 2ms/step - loss: 0.2821 - val_loss: 0.3647\n",
            "Epoch 147/250\n",
            "250/250 [==============================] - 0s 1ms/step - loss: 0.2823 - val_loss: 0.3738\n",
            "Epoch 148/250\n",
            "250/250 [==============================] - 0s 1ms/step - loss: 0.2819 - val_loss: 0.3600\n",
            "Epoch 149/250\n",
            "250/250 [==============================] - 0s 1ms/step - loss: 0.2804 - val_loss: 0.3632\n",
            "Epoch 150/250\n",
            "250/250 [==============================] - 0s 1ms/step - loss: 0.2817 - val_loss: 0.3657\n",
            "Epoch 151/250\n",
            "250/250 [==============================] - 0s 1ms/step - loss: 0.2816 - val_loss: 0.3643\n",
            "Epoch 152/250\n",
            "250/250 [==============================] - 0s 1ms/step - loss: 0.2797 - val_loss: 0.3694\n",
            "Epoch 153/250\n",
            "250/250 [==============================] - 0s 1ms/step - loss: 0.2806 - val_loss: 0.3770\n",
            "Epoch 154/250\n",
            "250/250 [==============================] - 0s 1ms/step - loss: 0.2786 - val_loss: 0.3678\n",
            "Epoch 155/250\n",
            "250/250 [==============================] - 0s 1ms/step - loss: 0.2792 - val_loss: 0.3718\n",
            "Epoch 156/250\n",
            "250/250 [==============================] - 0s 1ms/step - loss: 0.2782 - val_loss: 0.3702\n",
            "Epoch 157/250\n",
            "250/250 [==============================] - 0s 1ms/step - loss: 0.2777 - val_loss: 0.3671\n",
            "Epoch 158/250\n",
            "250/250 [==============================] - 0s 1ms/step - loss: 0.2772 - val_loss: 0.3717\n",
            "Epoch 159/250\n",
            "250/250 [==============================] - 0s 2ms/step - loss: 0.2765 - val_loss: 0.3682\n",
            "Epoch 160/250\n",
            "250/250 [==============================] - 0s 2ms/step - loss: 0.2759 - val_loss: 0.3684\n",
            "Epoch 161/250\n",
            "250/250 [==============================] - 0s 1ms/step - loss: 0.2752 - val_loss: 0.3686\n",
            "Epoch 162/250\n",
            "250/250 [==============================] - 0s 1ms/step - loss: 0.2751 - val_loss: 0.3712\n",
            "Epoch 163/250\n",
            "250/250 [==============================] - 0s 1ms/step - loss: 0.2754 - val_loss: 0.3680\n",
            "Epoch 164/250\n",
            "250/250 [==============================] - 0s 1ms/step - loss: 0.2746 - val_loss: 0.3741\n",
            "Epoch 165/250\n",
            "250/250 [==============================] - 0s 1ms/step - loss: 0.2740 - val_loss: 0.3712\n",
            "Epoch 166/250\n",
            "250/250 [==============================] - 0s 1ms/step - loss: 0.2744 - val_loss: 0.3729\n",
            "Epoch 167/250\n",
            "250/250 [==============================] - 0s 1ms/step - loss: 0.2733 - val_loss: 0.3722\n",
            "Epoch 168/250\n",
            "250/250 [==============================] - 0s 1ms/step - loss: 0.2745 - val_loss: 0.3756\n",
            "Epoch 169/250\n",
            "250/250 [==============================] - 0s 1ms/step - loss: 0.2733 - val_loss: 0.3799\n",
            "Epoch 170/250\n",
            "250/250 [==============================] - 0s 1ms/step - loss: 0.2724 - val_loss: 0.3728\n",
            "Epoch 171/250\n",
            "250/250 [==============================] - 0s 1ms/step - loss: 0.2726 - val_loss: 0.3759\n",
            "Epoch 172/250\n",
            "250/250 [==============================] - 0s 1ms/step - loss: 0.2702 - val_loss: 0.3868\n",
            "Epoch 173/250\n",
            "250/250 [==============================] - 0s 2ms/step - loss: 0.2724 - val_loss: 0.3883\n",
            "Epoch 174/250\n",
            "250/250 [==============================] - 0s 1ms/step - loss: 0.2712 - val_loss: 0.3731\n",
            "Epoch 175/250\n",
            "250/250 [==============================] - 0s 1ms/step - loss: 0.2710 - val_loss: 0.3816\n",
            "Epoch 176/250\n",
            "250/250 [==============================] - 0s 1ms/step - loss: 0.2694 - val_loss: 0.3832\n",
            "Epoch 177/250\n",
            "250/250 [==============================] - 0s 1ms/step - loss: 0.2705 - val_loss: 0.3853\n",
            "Epoch 178/250\n",
            "250/250 [==============================] - 0s 1ms/step - loss: 0.2705 - val_loss: 0.3746\n",
            "Epoch 179/250\n",
            "250/250 [==============================] - 0s 1ms/step - loss: 0.2684 - val_loss: 0.3811\n",
            "Epoch 180/250\n",
            "250/250 [==============================] - 0s 1ms/step - loss: 0.2687 - val_loss: 0.3799\n",
            "Epoch 181/250\n",
            "250/250 [==============================] - 0s 1ms/step - loss: 0.2676 - val_loss: 0.3864\n",
            "Epoch 182/250\n",
            "250/250 [==============================] - 0s 2ms/step - loss: 0.2682 - val_loss: 0.3809\n",
            "Epoch 183/250\n",
            "250/250 [==============================] - 0s 1ms/step - loss: 0.2687 - val_loss: 0.3779\n",
            "Epoch 184/250\n",
            "250/250 [==============================] - 0s 1ms/step - loss: 0.2685 - val_loss: 0.3832\n",
            "Epoch 185/250\n",
            "250/250 [==============================] - 0s 1ms/step - loss: 0.2680 - val_loss: 0.3798\n",
            "Epoch 186/250\n",
            "250/250 [==============================] - 0s 1ms/step - loss: 0.2658 - val_loss: 0.3918\n",
            "Epoch 187/250\n",
            "250/250 [==============================] - 0s 1ms/step - loss: 0.2685 - val_loss: 0.3884\n",
            "Epoch 188/250\n",
            "250/250 [==============================] - 0s 1ms/step - loss: 0.2668 - val_loss: 0.3863\n",
            "Epoch 189/250\n",
            "250/250 [==============================] - 0s 1ms/step - loss: 0.2661 - val_loss: 0.3892\n",
            "Epoch 190/250\n",
            "250/250 [==============================] - 0s 2ms/step - loss: 0.2656 - val_loss: 0.3879\n",
            "Epoch 191/250\n",
            "250/250 [==============================] - 0s 1ms/step - loss: 0.2655 - val_loss: 0.3858\n",
            "Epoch 192/250\n",
            "250/250 [==============================] - 0s 1ms/step - loss: 0.2635 - val_loss: 0.3932\n",
            "Epoch 193/250\n",
            "250/250 [==============================] - 0s 1ms/step - loss: 0.2650 - val_loss: 0.3854\n",
            "Epoch 194/250\n",
            "250/250 [==============================] - 0s 1ms/step - loss: 0.2635 - val_loss: 0.3929\n",
            "Epoch 195/250\n",
            "250/250 [==============================] - 0s 1ms/step - loss: 0.2650 - val_loss: 0.3843\n",
            "Epoch 196/250\n",
            "250/250 [==============================] - 0s 1ms/step - loss: 0.2630 - val_loss: 0.3859\n",
            "Epoch 197/250\n",
            "250/250 [==============================] - 0s 1ms/step - loss: 0.2631 - val_loss: 0.3946\n",
            "Epoch 198/250\n",
            "250/250 [==============================] - 0s 1ms/step - loss: 0.2637 - val_loss: 0.3947\n",
            "Epoch 199/250\n",
            "250/250 [==============================] - 0s 1ms/step - loss: 0.2626 - val_loss: 0.3917\n",
            "Epoch 200/250\n",
            "250/250 [==============================] - 0s 1ms/step - loss: 0.2627 - val_loss: 0.3921\n",
            "Epoch 201/250\n",
            "250/250 [==============================] - 0s 1ms/step - loss: 0.2638 - val_loss: 0.3911\n",
            "Epoch 202/250\n",
            "250/250 [==============================] - 0s 2ms/step - loss: 0.2618 - val_loss: 0.3889\n",
            "Epoch 203/250\n",
            "250/250 [==============================] - 0s 1ms/step - loss: 0.2598 - val_loss: 0.4058\n",
            "Epoch 204/250\n",
            "250/250 [==============================] - 0s 1ms/step - loss: 0.2631 - val_loss: 0.3851\n",
            "Epoch 205/250\n",
            "250/250 [==============================] - 0s 1ms/step - loss: 0.2587 - val_loss: 0.3887\n",
            "Epoch 206/250\n",
            "250/250 [==============================] - 0s 1ms/step - loss: 0.2604 - val_loss: 0.3936\n",
            "Epoch 207/250\n",
            "250/250 [==============================] - 0s 1ms/step - loss: 0.2592 - val_loss: 0.4130\n",
            "Epoch 208/250\n",
            "250/250 [==============================] - 0s 1ms/step - loss: 0.2588 - val_loss: 0.3900\n",
            "Epoch 209/250\n",
            "250/250 [==============================] - 0s 1ms/step - loss: 0.2595 - val_loss: 0.3976\n",
            "Epoch 210/250\n",
            "250/250 [==============================] - 0s 1ms/step - loss: 0.2605 - val_loss: 0.3967\n",
            "Epoch 211/250\n",
            "250/250 [==============================] - 0s 1ms/step - loss: 0.2584 - val_loss: 0.3959\n",
            "Epoch 212/250\n",
            "250/250 [==============================] - 0s 1ms/step - loss: 0.2581 - val_loss: 0.4055\n",
            "Epoch 213/250\n",
            "250/250 [==============================] - 0s 1ms/step - loss: 0.2581 - val_loss: 0.3966\n",
            "Epoch 214/250\n",
            "250/250 [==============================] - 0s 1ms/step - loss: 0.2596 - val_loss: 0.4028\n",
            "Epoch 215/250\n",
            "250/250 [==============================] - 0s 1ms/step - loss: 0.2585 - val_loss: 0.4004\n",
            "Epoch 216/250\n",
            "250/250 [==============================] - 0s 1ms/step - loss: 0.2590 - val_loss: 0.3986\n",
            "Epoch 217/250\n",
            "250/250 [==============================] - 0s 1ms/step - loss: 0.2575 - val_loss: 0.3950\n",
            "Epoch 218/250\n",
            "250/250 [==============================] - 0s 1ms/step - loss: 0.2582 - val_loss: 0.3979\n",
            "Epoch 219/250\n",
            "250/250 [==============================] - 0s 2ms/step - loss: 0.2553 - val_loss: 0.4033\n",
            "Epoch 220/250\n",
            "250/250 [==============================] - 0s 2ms/step - loss: 0.2553 - val_loss: 0.3968\n",
            "Epoch 221/250\n",
            "250/250 [==============================] - 0s 1ms/step - loss: 0.2556 - val_loss: 0.4077\n",
            "Epoch 222/250\n",
            "250/250 [==============================] - 0s 1ms/step - loss: 0.2575 - val_loss: 0.4144\n",
            "Epoch 223/250\n",
            "250/250 [==============================] - 0s 1ms/step - loss: 0.2554 - val_loss: 0.4044\n",
            "Epoch 224/250\n",
            "250/250 [==============================] - 0s 1ms/step - loss: 0.2553 - val_loss: 0.3986\n",
            "Epoch 225/250\n",
            "250/250 [==============================] - 0s 1ms/step - loss: 0.2541 - val_loss: 0.4058\n",
            "Epoch 226/250\n",
            "250/250 [==============================] - 0s 1ms/step - loss: 0.2536 - val_loss: 0.3986\n",
            "Epoch 227/250\n",
            "250/250 [==============================] - 0s 1ms/step - loss: 0.2537 - val_loss: 0.4159\n",
            "Epoch 228/250\n",
            "250/250 [==============================] - 0s 1ms/step - loss: 0.2548 - val_loss: 0.4102\n",
            "Epoch 229/250\n",
            "250/250 [==============================] - 0s 1ms/step - loss: 0.2537 - val_loss: 0.4053\n",
            "Epoch 230/250\n",
            "250/250 [==============================] - 0s 1ms/step - loss: 0.2526 - val_loss: 0.4073\n",
            "Epoch 231/250\n",
            "250/250 [==============================] - 0s 1ms/step - loss: 0.2521 - val_loss: 0.4076\n",
            "Epoch 232/250\n",
            "250/250 [==============================] - 0s 1ms/step - loss: 0.2531 - val_loss: 0.4047\n",
            "Epoch 233/250\n",
            "250/250 [==============================] - 0s 1ms/step - loss: 0.2521 - val_loss: 0.4201\n",
            "Epoch 234/250\n",
            "250/250 [==============================] - 0s 1ms/step - loss: 0.2523 - val_loss: 0.4038\n",
            "Epoch 235/250\n",
            "250/250 [==============================] - 0s 1ms/step - loss: 0.2523 - val_loss: 0.4077\n",
            "Epoch 236/250\n",
            "250/250 [==============================] - 0s 1ms/step - loss: 0.2532 - val_loss: 0.4041\n",
            "Epoch 237/250\n",
            "250/250 [==============================] - 0s 1ms/step - loss: 0.2505 - val_loss: 0.4112\n",
            "Epoch 238/250\n",
            "250/250 [==============================] - 0s 1ms/step - loss: 0.2495 - val_loss: 0.4113\n",
            "Epoch 239/250\n",
            "250/250 [==============================] - 0s 1ms/step - loss: 0.2522 - val_loss: 0.4045\n",
            "Epoch 240/250\n",
            "250/250 [==============================] - 0s 1ms/step - loss: 0.2517 - val_loss: 0.4164\n",
            "Epoch 241/250\n",
            "250/250 [==============================] - 0s 1ms/step - loss: 0.2503 - val_loss: 0.4068\n",
            "Epoch 242/250\n",
            "250/250 [==============================] - 0s 1ms/step - loss: 0.2489 - val_loss: 0.4176\n",
            "Epoch 243/250\n",
            "250/250 [==============================] - 0s 1ms/step - loss: 0.2501 - val_loss: 0.4141\n",
            "Epoch 244/250\n",
            "250/250 [==============================] - 0s 1ms/step - loss: 0.2496 - val_loss: 0.4199\n",
            "Epoch 245/250\n",
            "250/250 [==============================] - 0s 1ms/step - loss: 0.2502 - val_loss: 0.4193\n",
            "Epoch 246/250\n",
            "250/250 [==============================] - 0s 1ms/step - loss: 0.2485 - val_loss: 0.4274\n",
            "Epoch 247/250\n",
            "250/250 [==============================] - 0s 1ms/step - loss: 0.2474 - val_loss: 0.4154\n",
            "Epoch 248/250\n",
            "250/250 [==============================] - 0s 1ms/step - loss: 0.2490 - val_loss: 0.4179\n",
            "Epoch 249/250\n",
            "250/250 [==============================] - 0s 2ms/step - loss: 0.2454 - val_loss: 0.4240\n",
            "Epoch 250/250\n",
            "250/250 [==============================] - 0s 2ms/step - loss: 0.2469 - val_loss: 0.4199\n"
          ],
          "name": "stdout"
        },
        {
          "output_type": "execute_result",
          "data": {
            "text/plain": [
              "<tensorflow.python.keras.callbacks.History at 0x7f3d78140588>"
            ]
          },
          "metadata": {
            "tags": []
          },
          "execution_count": 15
        }
      ]
    },
    {
      "cell_type": "code",
      "metadata": {
        "id": "JgQLT39oEcFb"
      },
      "source": [
        "losses = pd.DataFrame(model.history.history)"
      ],
      "execution_count": 16,
      "outputs": []
    },
    {
      "cell_type": "code",
      "metadata": {
        "colab": {
          "base_uri": "https://localhost:8080/",
          "height": 282
        },
        "id": "mt-WkDFsPbmz",
        "outputId": "07af17c1-7afc-45c8-8e6d-21dd2682069f"
      },
      "source": [
        "losses.plot()"
      ],
      "execution_count": 17,
      "outputs": [
        {
          "output_type": "execute_result",
          "data": {
            "text/plain": [
              "<matplotlib.axes._subplots.AxesSubplot at 0x7f3d739f2c88>"
            ]
          },
          "metadata": {
            "tags": []
          },
          "execution_count": 17
        },
        {
          "output_type": "display_data",
          "data": {
            "image/png": "[encoded data removed]",
            "text/plain": [
              "<Figure size 432x288 with 1 Axes>"
            ]
          },
          "metadata": {
            "tags": [],
            "needs_background": "light"
          }
        }
      ]
    },
    {
      "cell_type": "code",
      "metadata": {
        "id": "vdWF2-3qQLkS"
      },
      "source": [
        "model = Sequential()\n",
        "model.add(Dense(units=60,activation='relu'))\n",
        "model.add(Dense(units=40,activation='relu'))\n",
        "model.add(Dense(units=1,activation='sigmoid'))\n",
        "model.compile(loss='binary_crossentropy', optimizer='adam')"
      ],
      "execution_count": 18,
      "outputs": []
    },
    {
      "cell_type": "code",
      "metadata": {
        "id": "9YgAXAWBUsVk"
      },
      "source": [
        "from tensorflow.keras.callbacks import EarlyStopping"
      ],
      "execution_count": 19,
      "outputs": []
    },
    {
      "cell_type": "code",
      "metadata": {
        "id": "clSyxm29UuhS"
      },
      "source": [
        "early_stop = EarlyStopping(monitor='val_loss', mode='min', verbose=1, patience=25)"
      ],
      "execution_count": 20,
      "outputs": []
    },
    {
      "cell_type": "code",
      "metadata": {
        "colab": {
          "base_uri": "https://localhost:8080/"
        },
        "id": "JI5aJfpEUwWz",
        "outputId": "7a6a2b0d-d866-4682-bf17-8444637d0c0b"
      },
      "source": [
        "model.fit(x=X_train, \n",
        "          y=y_train, \n",
        "          epochs=600,\n",
        "          validation_data=(X_test, y_test), verbose=1,\n",
        "          callbacks=[early_stop]\n",
        "          )"
      ],
      "execution_count": 21,
      "outputs": [
        {
          "output_type": "stream",
          "text": [
            "Epoch 1/600\n",
            "250/250 [==============================] - 0s 2ms/step - loss: 0.4893 - val_loss: 0.4480\n",
            "Epoch 2/600\n",
            "250/250 [==============================] - 0s 1ms/step - loss: 0.4310 - val_loss: 0.4146\n",
            "Epoch 3/600\n",
            "250/250 [==============================] - 0s 1ms/step - loss: 0.3993 - val_loss: 0.3813\n",
            "Epoch 4/600\n",
            "250/250 [==============================] - 0s 1ms/step - loss: 0.3766 - val_loss: 0.3608\n",
            "Epoch 5/600\n",
            "250/250 [==============================] - 0s 1ms/step - loss: 0.3672 - val_loss: 0.3603\n",
            "Epoch 6/600\n",
            "250/250 [==============================] - 0s 1ms/step - loss: 0.3631 - val_loss: 0.3516\n",
            "Epoch 7/600\n",
            "250/250 [==============================] - 0s 1ms/step - loss: 0.3603 - val_loss: 0.3457\n",
            "Epoch 8/600\n",
            "250/250 [==============================] - 0s 1ms/step - loss: 0.3574 - val_loss: 0.3490\n",
            "Epoch 9/600\n",
            "250/250 [==============================] - 0s 1ms/step - loss: 0.3544 - val_loss: 0.3546\n",
            "Epoch 10/600\n",
            "250/250 [==============================] - 0s 1ms/step - loss: 0.3513 - val_loss: 0.3428\n",
            "Epoch 11/600\n",
            "250/250 [==============================] - 0s 1ms/step - loss: 0.3516 - val_loss: 0.3515\n",
            "Epoch 12/600\n",
            "250/250 [==============================] - 0s 1ms/step - loss: 0.3510 - val_loss: 0.3386\n",
            "Epoch 13/600\n",
            "250/250 [==============================] - 0s 1ms/step - loss: 0.3488 - val_loss: 0.3456\n",
            "Epoch 14/600\n",
            "250/250 [==============================] - 0s 1ms/step - loss: 0.3462 - val_loss: 0.3398\n",
            "Epoch 15/600\n",
            "250/250 [==============================] - 0s 1ms/step - loss: 0.3467 - val_loss: 0.3371\n",
            "Epoch 16/600\n",
            "250/250 [==============================] - 0s 1ms/step - loss: 0.3448 - val_loss: 0.3413\n",
            "Epoch 17/600\n",
            "250/250 [==============================] - 0s 1ms/step - loss: 0.3438 - val_loss: 0.3480\n",
            "Epoch 18/600\n",
            "250/250 [==============================] - 0s 1ms/step - loss: 0.3437 - val_loss: 0.3425\n",
            "Epoch 19/600\n",
            "250/250 [==============================] - 0s 1ms/step - loss: 0.3437 - val_loss: 0.3355\n",
            "Epoch 20/600\n",
            "250/250 [==============================] - 0s 1ms/step - loss: 0.3423 - val_loss: 0.3385\n",
            "Epoch 21/600\n",
            "250/250 [==============================] - 0s 1ms/step - loss: 0.3416 - val_loss: 0.3339\n",
            "Epoch 22/600\n",
            "250/250 [==============================] - 0s 1ms/step - loss: 0.3420 - val_loss: 0.3345\n",
            "Epoch 23/600\n",
            "250/250 [==============================] - 0s 1ms/step - loss: 0.3393 - val_loss: 0.3343\n",
            "Epoch 24/600\n",
            "250/250 [==============================] - 0s 1ms/step - loss: 0.3397 - val_loss: 0.3326\n",
            "Epoch 25/600\n",
            "250/250 [==============================] - 0s 1ms/step - loss: 0.3378 - val_loss: 0.3391\n",
            "Epoch 26/600\n",
            "250/250 [==============================] - 0s 1ms/step - loss: 0.3402 - val_loss: 0.3344\n",
            "Epoch 27/600\n",
            "250/250 [==============================] - 0s 1ms/step - loss: 0.3379 - val_loss: 0.3348\n",
            "Epoch 28/600\n",
            "250/250 [==============================] - 0s 2ms/step - loss: 0.3384 - val_loss: 0.3428\n",
            "Epoch 29/600\n",
            "250/250 [==============================] - 0s 2ms/step - loss: 0.3356 - val_loss: 0.3417\n",
            "Epoch 30/600\n",
            "250/250 [==============================] - 0s 1ms/step - loss: 0.3355 - val_loss: 0.3307\n",
            "Epoch 31/600\n",
            "250/250 [==============================] - 0s 1ms/step - loss: 0.3366 - val_loss: 0.3363\n",
            "Epoch 32/600\n",
            "250/250 [==============================] - 0s 1ms/step - loss: 0.3348 - val_loss: 0.3310\n",
            "Epoch 33/600\n",
            "250/250 [==============================] - 0s 1ms/step - loss: 0.3346 - val_loss: 0.3331\n",
            "Epoch 34/600\n",
            "250/250 [==============================] - 0s 1ms/step - loss: 0.3334 - val_loss: 0.3308\n",
            "Epoch 35/600\n",
            "250/250 [==============================] - 0s 2ms/step - loss: 0.3332 - val_loss: 0.3350\n",
            "Epoch 36/600\n",
            "250/250 [==============================] - 0s 2ms/step - loss: 0.3324 - val_loss: 0.3328\n",
            "Epoch 37/600\n",
            "250/250 [==============================] - 0s 1ms/step - loss: 0.3316 - val_loss: 0.3343\n",
            "Epoch 38/600\n",
            "250/250 [==============================] - 0s 1ms/step - loss: 0.3318 - val_loss: 0.3308\n",
            "Epoch 39/600\n",
            "250/250 [==============================] - 0s 1ms/step - loss: 0.3310 - val_loss: 0.3351\n",
            "Epoch 40/600\n",
            "250/250 [==============================] - 0s 1ms/step - loss: 0.3315 - val_loss: 0.3294\n",
            "Epoch 41/600\n",
            "250/250 [==============================] - 0s 1ms/step - loss: 0.3298 - val_loss: 0.3287\n",
            "Epoch 42/600\n",
            "250/250 [==============================] - 0s 2ms/step - loss: 0.3294 - val_loss: 0.3363\n",
            "Epoch 43/600\n",
            "250/250 [==============================] - 0s 2ms/step - loss: 0.3287 - val_loss: 0.3284\n",
            "Epoch 44/600\n",
            "250/250 [==============================] - 0s 1ms/step - loss: 0.3287 - val_loss: 0.3283\n",
            "Epoch 45/600\n",
            "250/250 [==============================] - 0s 1ms/step - loss: 0.3292 - val_loss: 0.3334\n",
            "Epoch 46/600\n",
            "250/250 [==============================] - 0s 2ms/step - loss: 0.3287 - val_loss: 0.3338\n",
            "Epoch 47/600\n",
            "250/250 [==============================] - 0s 2ms/step - loss: 0.3276 - val_loss: 0.3295\n",
            "Epoch 48/600\n",
            "250/250 [==============================] - 0s 2ms/step - loss: 0.3260 - val_loss: 0.3279\n",
            "Epoch 49/600\n",
            "250/250 [==============================] - 0s 1ms/step - loss: 0.3251 - val_loss: 0.3321\n",
            "Epoch 50/600\n",
            "250/250 [==============================] - 0s 2ms/step - loss: 0.3257 - val_loss: 0.3282\n",
            "Epoch 51/600\n",
            "250/250 [==============================] - 0s 1ms/step - loss: 0.3249 - val_loss: 0.3283\n",
            "Epoch 52/600\n",
            "250/250 [==============================] - 0s 2ms/step - loss: 0.3230 - val_loss: 0.3281\n",
            "Epoch 53/600\n",
            "250/250 [==============================] - 0s 1ms/step - loss: 0.3249 - val_loss: 0.3286\n",
            "Epoch 54/600\n",
            "250/250 [==============================] - 0s 2ms/step - loss: 0.3230 - val_loss: 0.3315\n",
            "Epoch 55/600\n",
            "250/250 [==============================] - 0s 2ms/step - loss: 0.3220 - val_loss: 0.3345\n",
            "Epoch 56/600\n",
            "250/250 [==============================] - 0s 1ms/step - loss: 0.3233 - val_loss: 0.3269\n",
            "Epoch 57/600\n",
            "250/250 [==============================] - 0s 1ms/step - loss: 0.3222 - val_loss: 0.3297\n",
            "Epoch 58/600\n",
            "250/250 [==============================] - 0s 1ms/step - loss: 0.3225 - val_loss: 0.3271\n",
            "Epoch 59/600\n",
            "250/250 [==============================] - 1s 2ms/step - loss: 0.3205 - val_loss: 0.3316\n",
            "Epoch 60/600\n",
            "250/250 [==============================] - 1s 2ms/step - loss: 0.3197 - val_loss: 0.3431\n",
            "Epoch 61/600\n",
            "250/250 [==============================] - 1s 2ms/step - loss: 0.3217 - val_loss: 0.3290\n",
            "Epoch 62/600\n",
            "250/250 [==============================] - 1s 2ms/step - loss: 0.3186 - val_loss: 0.3325\n",
            "Epoch 63/600\n",
            "250/250 [==============================] - 1s 2ms/step - loss: 0.3194 - val_loss: 0.3495\n",
            "Epoch 64/600\n",
            "250/250 [==============================] - 1s 2ms/step - loss: 0.3198 - val_loss: 0.3370\n",
            "Epoch 65/600\n",
            "250/250 [==============================] - 1s 2ms/step - loss: 0.3190 - val_loss: 0.3382\n",
            "Epoch 66/600\n",
            "250/250 [==============================] - 1s 2ms/step - loss: 0.3177 - val_loss: 0.3369\n",
            "Epoch 67/600\n",
            "250/250 [==============================] - 1s 2ms/step - loss: 0.3172 - val_loss: 0.3317\n",
            "Epoch 68/600\n",
            "250/250 [==============================] - 1s 2ms/step - loss: 0.3177 - val_loss: 0.3267\n",
            "Epoch 69/600\n",
            "250/250 [==============================] - 1s 2ms/step - loss: 0.3161 - val_loss: 0.3594\n",
            "Epoch 70/600\n",
            "250/250 [==============================] - 1s 3ms/step - loss: 0.3175 - val_loss: 0.3271\n",
            "Epoch 71/600\n",
            "250/250 [==============================] - 1s 2ms/step - loss: 0.3162 - val_loss: 0.3276\n",
            "Epoch 72/600\n",
            "250/250 [==============================] - 1s 4ms/step - loss: 0.3144 - val_loss: 0.3377\n",
            "Epoch 73/600\n",
            "250/250 [==============================] - 1s 3ms/step - loss: 0.3168 - val_loss: 0.3284\n",
            "Epoch 74/600\n",
            "250/250 [==============================] - 1s 2ms/step - loss: 0.3147 - val_loss: 0.3272\n",
            "Epoch 75/600\n",
            "250/250 [==============================] - 0s 2ms/step - loss: 0.3131 - val_loss: 0.3301\n",
            "Epoch 76/600\n",
            "250/250 [==============================] - 0s 1ms/step - loss: 0.3144 - val_loss: 0.3297\n",
            "Epoch 77/600\n",
            "250/250 [==============================] - 0s 1ms/step - loss: 0.3123 - val_loss: 0.3368\n",
            "Epoch 78/600\n",
            "250/250 [==============================] - 0s 1ms/step - loss: 0.3136 - val_loss: 0.3321\n",
            "Epoch 79/600\n",
            "250/250 [==============================] - 0s 1ms/step - loss: 0.3117 - val_loss: 0.3308\n",
            "Epoch 80/600\n",
            "250/250 [==============================] - 0s 1ms/step - loss: 0.3111 - val_loss: 0.3355\n",
            "Epoch 81/600\n",
            "250/250 [==============================] - 0s 1ms/step - loss: 0.3112 - val_loss: 0.3309\n",
            "Epoch 82/600\n",
            "250/250 [==============================] - 0s 1ms/step - loss: 0.3097 - val_loss: 0.3284\n",
            "Epoch 83/600\n",
            "250/250 [==============================] - 0s 1ms/step - loss: 0.3125 - val_loss: 0.3297\n",
            "Epoch 84/600\n",
            "250/250 [==============================] - 0s 1ms/step - loss: 0.3102 - val_loss: 0.3327\n",
            "Epoch 85/600\n",
            "250/250 [==============================] - 0s 1ms/step - loss: 0.3098 - val_loss: 0.3309\n",
            "Epoch 86/600\n",
            "250/250 [==============================] - 0s 1ms/step - loss: 0.3088 - val_loss: 0.3288\n",
            "Epoch 87/600\n",
            "250/250 [==============================] - 0s 1ms/step - loss: 0.3098 - val_loss: 0.3301\n",
            "Epoch 88/600\n",
            "250/250 [==============================] - 0s 1ms/step - loss: 0.3080 - val_loss: 0.3445\n",
            "Epoch 89/600\n",
            "250/250 [==============================] - 0s 1ms/step - loss: 0.3076 - val_loss: 0.3301\n",
            "Epoch 90/600\n",
            "250/250 [==============================] - 0s 1ms/step - loss: 0.3076 - val_loss: 0.3295\n",
            "Epoch 91/600\n",
            "250/250 [==============================] - 0s 1ms/step - loss: 0.3073 - val_loss: 0.3318\n",
            "Epoch 92/600\n",
            "250/250 [==============================] - 0s 1ms/step - loss: 0.3063 - val_loss: 0.3305\n",
            "Epoch 93/600\n",
            "250/250 [==============================] - 0s 1ms/step - loss: 0.3073 - val_loss: 0.3331\n",
            "Epoch 00093: early stopping\n"
          ],
          "name": "stdout"
        },
        {
          "output_type": "execute_result",
          "data": {
            "text/plain": [
              "<tensorflow.python.keras.callbacks.History at 0x7f3d74978f98>"
            ]
          },
          "metadata": {
            "tags": []
          },
          "execution_count": 21
        }
      ]
    },
    {
      "cell_type": "code",
      "metadata": {
        "colab": {
          "base_uri": "https://localhost:8080/",
          "height": 282
        },
        "id": "jjg0H98IUx_L",
        "outputId": "58d2d09e-43cb-4565-b4e9-3fef02587756"
      },
      "source": [
        "model_loss = pd.DataFrame(model.history.history)\n",
        "model_loss.plot()"
      ],
      "execution_count": 23,
      "outputs": [
        {
          "output_type": "execute_result",
          "data": {
            "text/plain": [
              "<matplotlib.axes._subplots.AxesSubplot at 0x7f3d74839e10>"
            ]
          },
          "metadata": {
            "tags": []
          },
          "execution_count": 23
        },
        {
          "output_type": "display_data",
          "data": {
            "image/png": "[encoded data removed]",
            "text/plain": [
              "<Figure size 432x288 with 1 Axes>"
            ]
          },
          "metadata": {
            "tags": [],
            "needs_background": "light"
          }
        }
      ]
    },
    {
      "cell_type": "code",
      "metadata": {
        "colab": {
          "base_uri": "https://localhost:8080/"
        },
        "id": "Rd3s01KAVBz2",
        "outputId": "4ffe0666-f254-4b0e-843c-5326f4fec204"
      },
      "source": [
        "predictions = model.predict_classes(X_test)\n",
        "from sklearn.metrics import classification_report,confusion_matrix"
      ],
      "execution_count": 24,
      "outputs": [
        {
          "output_type": "stream",
          "text": [
            "WARNING:tensorflow:From <ipython-input-24-b575b4b9d939>:1: Sequential.predict_classes (from tensorflow.python.keras.engine.sequential) is deprecated and will be removed after 2021-01-01.\n",
            "Instructions for updating:\n",
            "Please use instead:* `np.argmax(model.predict(x), axis=-1)`,   if your model does multi-class classification   (e.g. if it uses a `softmax` last-layer activation).* `(model.predict(x) > 0.5).astype(\"int32\")`,   if your model does binary classification   (e.g. if it uses a `sigmoid` last-layer activation).\n"
          ],
          "name": "stdout"
        }
      ]
    },
    {
      "cell_type": "code",
      "metadata": {
        "colab": {
          "base_uri": "https://localhost:8080/"
        },
        "id": "HQB-6zaIWunI",
        "outputId": "d205046c-9cf4-42ef-b51b-1dccf6c86238"
      },
      "source": [
        "print(classification_report(y_test,predictions))"
      ],
      "execution_count": 25,
      "outputs": [
        {
          "output_type": "stream",
          "text": [
            "              precision    recall  f1-score   support\n",
            "\n",
            "           0       0.89      0.93      0.91      1577\n",
            "           1       0.71      0.59      0.64       423\n",
            "\n",
            "    accuracy                           0.86      2000\n",
            "   macro avg       0.80      0.76      0.78      2000\n",
            "weighted avg       0.85      0.86      0.86      2000\n",
            "\n"
          ],
          "name": "stdout"
        }
      ]
    },
    {
      "cell_type": "code",
      "metadata": {
        "colab": {
          "base_uri": "https://localhost:8080/"
        },
        "id": "TSHMx8wFWvi8",
        "outputId": "16611261-2c0c-4aad-940d-d988b59fe5b5"
      },
      "source": [
        "print(confusion_matrix(y_test,predictions))"
      ],
      "execution_count": 26,
      "outputs": [
        {
          "output_type": "stream",
          "text": [
            "[[1473  104]\n",
            " [ 174  249]]\n"
          ],
          "name": "stdout"
        }
      ]
    },
    {
      "cell_type": "code",
      "metadata": {
        "id": "nV2tkk7RW2Ug"
      },
      "source": [
        ""
      ],
      "execution_count": null,
      "outputs": []
    }
  ]
}